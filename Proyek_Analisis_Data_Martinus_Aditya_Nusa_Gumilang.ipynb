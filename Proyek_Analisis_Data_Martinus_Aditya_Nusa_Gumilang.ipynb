{
  "cells": [
    {
      "cell_type": "markdown",
      "metadata": {
        "id": "H9wADwK78DCz"
      },
      "source": [
        "# Proyek Analisis Data: Bike Sharing Dataset\n",
        "- **Nama:** Martinus Aditya Nusa Gumilang\n",
        "- **Email:** nusagumilang@gmail.com\n",
        "- **ID Dicoding:** nusagumilang"
      ]
    },
    {
      "cell_type": "markdown",
      "metadata": {
        "id": "eE0raob58DC0"
      },
      "source": [
        "## Menentukan Pertanyaan Bisnis"
      ]
    },
    {
      "cell_type": "markdown",
      "metadata": {
        "id": "GmQeQ5YF8DC0"
      },
      "source": [
        "- Pertanyaan 1: Pada bulan apakah terjadi penyewaan sepeda terbanyak?\n",
        "- Pertanyaan 2: Secara deskriptif, manakah jumlah penyewa sepeda yang lebih banyak, hari masuk atau hari libur?\n",
        "- Pertanyaan 3: Secara deskriptif, pada musim manakah jumlah penyewaan sepeda tertinggi?\n",
        "- Pertanyaan 4: Apakah terdapat peningkatan jumlah penyewaan sepeda dari tahun 2011 ke 2012?\n",
        "- Pertanyaan 5: Pada jam berapakah penyewaan sepeda mencapai puncak?"
      ]
    },
    {
      "cell_type": "markdown",
      "metadata": {
        "id": "H-z4QGlO8DC1"
      },
      "source": [
        "## Import Semua Packages/Library yang Digunakan"
      ]
    },
    {
      "cell_type": "code",
      "execution_count": 2,
      "metadata": {
        "colab": {
          "base_uri": "https://localhost:8080/"
        },
        "id": "FVYwaObI8DC1",
        "outputId": "d86c2aa5-7e81-4748-beff-77f0a7f4fb59"
      },
      "outputs": [],
      "source": [
        "# Untuk analisis\n",
        "import numpy as np\n",
        "import pandas as pd\n",
        "\n",
        "# Untuk visualisasi data\n",
        "import matplotlib.pyplot as plt\n",
        "import seaborn as sns"
      ]
    },
    {
      "cell_type": "markdown",
      "metadata": {
        "id": "h_Sh51Xy8DC1"
      },
      "source": [
        "## Data Wrangling"
      ]
    },
    {
      "cell_type": "markdown",
      "metadata": {
        "id": "sXU2GBYu8DC1"
      },
      "source": [
        "### Gathering Data"
      ]
    },
    {
      "cell_type": "markdown",
      "metadata": {
        "id": "bVu8vFwX6Hs_"
      },
      "source": [
        "Melakukan *extract* dataset dari file .zip dengan menggunakan *command* Expand-Archive melalui shell."
      ]
    },
    {
      "cell_type": "code",
      "execution_count": 31,
      "metadata": {
        "colab": {
          "base_uri": "https://localhost:8080/"
        },
        "id": "zjCBk1BI8DC1",
        "outputId": "7a2c7bb5-4e67-4e72-bb3b-e80a3714d143"
      },
      "outputs": [],
      "source": [
        "# Melakukan unzip dataset\n",
        "!Powershell.exe Expand-Archive Bike-sharing-dataset.zip -DestinationPath ."
      ]
    },
    {
      "cell_type": "markdown",
      "metadata": {
        "id": "JoDMA3cq6jwV"
      },
      "source": [
        "Memasukkan data yang telah ter-*extract* ke dalam variabel \"day\" dan \"hour\"."
      ]
    },
    {
      "cell_type": "code",
      "execution_count": 114,
      "metadata": {
        "id": "ZSoiIuDT6AtL"
      },
      "outputs": [],
      "source": [
        "# Memasukan data ke variabel\n",
        "day = pd.read_csv(\"./day.csv\")\n",
        "hour = pd.read_csv(\"./hour.csv\")"
      ]
    },
    {
      "cell_type": "markdown",
      "metadata": {
        "id": "FHSiqaZp8DC1"
      },
      "source": [
        "### Assessing Data"
      ]
    },
    {
      "cell_type": "markdown",
      "metadata": {
        "id": "hYzzl4QEA0WF"
      },
      "source": [
        "#### Melihat Konteks Data"
      ]
    },
    {
      "cell_type": "markdown",
      "metadata": {
        "id": "-tZupx4JCYzB"
      },
      "source": [
        "Berdasarkan deskripsi, data berasal dari sistem *bike sharing* atau peminjaman sepeda pada tahun 2011 hingga 2012. Selanjutnya akan dilihat data apa saja yang termuat."
      ]
    },
    {
      "cell_type": "code",
      "execution_count": 115,
      "metadata": {
        "colab": {
          "base_uri": "https://localhost:8080/",
          "height": 206
        },
        "id": "_EXnGXa_DNEw",
        "outputId": "3a87a8fb-7548-4c93-c32a-351c2ea5813b"
      },
      "outputs": [
        {
          "data": {
            "text/html": [
              "<div>\n",
              "<style scoped>\n",
              "    .dataframe tbody tr th:only-of-type {\n",
              "        vertical-align: middle;\n",
              "    }\n",
              "\n",
              "    .dataframe tbody tr th {\n",
              "        vertical-align: top;\n",
              "    }\n",
              "\n",
              "    .dataframe thead th {\n",
              "        text-align: right;\n",
              "    }\n",
              "</style>\n",
              "<table border=\"1\" class=\"dataframe\">\n",
              "  <thead>\n",
              "    <tr style=\"text-align: right;\">\n",
              "      <th></th>\n",
              "      <th>instant</th>\n",
              "      <th>dteday</th>\n",
              "      <th>season</th>\n",
              "      <th>yr</th>\n",
              "      <th>mnth</th>\n",
              "      <th>holiday</th>\n",
              "      <th>weekday</th>\n",
              "      <th>workingday</th>\n",
              "      <th>weathersit</th>\n",
              "      <th>temp</th>\n",
              "      <th>atemp</th>\n",
              "      <th>hum</th>\n",
              "      <th>windspeed</th>\n",
              "      <th>casual</th>\n",
              "      <th>registered</th>\n",
              "      <th>cnt</th>\n",
              "    </tr>\n",
              "  </thead>\n",
              "  <tbody>\n",
              "    <tr>\n",
              "      <th>0</th>\n",
              "      <td>1</td>\n",
              "      <td>2011-01-01</td>\n",
              "      <td>1</td>\n",
              "      <td>0</td>\n",
              "      <td>1</td>\n",
              "      <td>0</td>\n",
              "      <td>6</td>\n",
              "      <td>0</td>\n",
              "      <td>2</td>\n",
              "      <td>0.344167</td>\n",
              "      <td>0.363625</td>\n",
              "      <td>0.805833</td>\n",
              "      <td>0.160446</td>\n",
              "      <td>331</td>\n",
              "      <td>654</td>\n",
              "      <td>985</td>\n",
              "    </tr>\n",
              "    <tr>\n",
              "      <th>1</th>\n",
              "      <td>2</td>\n",
              "      <td>2011-01-02</td>\n",
              "      <td>1</td>\n",
              "      <td>0</td>\n",
              "      <td>1</td>\n",
              "      <td>0</td>\n",
              "      <td>0</td>\n",
              "      <td>0</td>\n",
              "      <td>2</td>\n",
              "      <td>0.363478</td>\n",
              "      <td>0.353739</td>\n",
              "      <td>0.696087</td>\n",
              "      <td>0.248539</td>\n",
              "      <td>131</td>\n",
              "      <td>670</td>\n",
              "      <td>801</td>\n",
              "    </tr>\n",
              "    <tr>\n",
              "      <th>2</th>\n",
              "      <td>3</td>\n",
              "      <td>2011-01-03</td>\n",
              "      <td>1</td>\n",
              "      <td>0</td>\n",
              "      <td>1</td>\n",
              "      <td>0</td>\n",
              "      <td>1</td>\n",
              "      <td>1</td>\n",
              "      <td>1</td>\n",
              "      <td>0.196364</td>\n",
              "      <td>0.189405</td>\n",
              "      <td>0.437273</td>\n",
              "      <td>0.248309</td>\n",
              "      <td>120</td>\n",
              "      <td>1229</td>\n",
              "      <td>1349</td>\n",
              "    </tr>\n",
              "    <tr>\n",
              "      <th>3</th>\n",
              "      <td>4</td>\n",
              "      <td>2011-01-04</td>\n",
              "      <td>1</td>\n",
              "      <td>0</td>\n",
              "      <td>1</td>\n",
              "      <td>0</td>\n",
              "      <td>2</td>\n",
              "      <td>1</td>\n",
              "      <td>1</td>\n",
              "      <td>0.200000</td>\n",
              "      <td>0.212122</td>\n",
              "      <td>0.590435</td>\n",
              "      <td>0.160296</td>\n",
              "      <td>108</td>\n",
              "      <td>1454</td>\n",
              "      <td>1562</td>\n",
              "    </tr>\n",
              "    <tr>\n",
              "      <th>4</th>\n",
              "      <td>5</td>\n",
              "      <td>2011-01-05</td>\n",
              "      <td>1</td>\n",
              "      <td>0</td>\n",
              "      <td>1</td>\n",
              "      <td>0</td>\n",
              "      <td>3</td>\n",
              "      <td>1</td>\n",
              "      <td>1</td>\n",
              "      <td>0.226957</td>\n",
              "      <td>0.229270</td>\n",
              "      <td>0.436957</td>\n",
              "      <td>0.186900</td>\n",
              "      <td>82</td>\n",
              "      <td>1518</td>\n",
              "      <td>1600</td>\n",
              "    </tr>\n",
              "  </tbody>\n",
              "</table>\n",
              "</div>"
            ],
            "text/plain": [
              "   instant      dteday  season  yr  mnth  holiday  weekday  workingday  \\\n",
              "0        1  2011-01-01       1   0     1        0        6           0   \n",
              "1        2  2011-01-02       1   0     1        0        0           0   \n",
              "2        3  2011-01-03       1   0     1        0        1           1   \n",
              "3        4  2011-01-04       1   0     1        0        2           1   \n",
              "4        5  2011-01-05       1   0     1        0        3           1   \n",
              "\n",
              "   weathersit      temp     atemp       hum  windspeed  casual  registered  \\\n",
              "0           2  0.344167  0.363625  0.805833   0.160446     331         654   \n",
              "1           2  0.363478  0.353739  0.696087   0.248539     131         670   \n",
              "2           1  0.196364  0.189405  0.437273   0.248309     120        1229   \n",
              "3           1  0.200000  0.212122  0.590435   0.160296     108        1454   \n",
              "4           1  0.226957  0.229270  0.436957   0.186900      82        1518   \n",
              "\n",
              "    cnt  \n",
              "0   985  \n",
              "1   801  \n",
              "2  1349  \n",
              "3  1562  \n",
              "4  1600  "
            ]
          },
          "execution_count": 115,
          "metadata": {},
          "output_type": "execute_result"
        }
      ],
      "source": [
        "day.head()"
      ]
    },
    {
      "cell_type": "code",
      "execution_count": 116,
      "metadata": {
        "colab": {
          "base_uri": "https://localhost:8080/",
          "height": 206
        },
        "id": "-u6W98RfDZh0",
        "outputId": "be7a4c49-a94c-439d-da8d-23cdb95d48f8"
      },
      "outputs": [
        {
          "data": {
            "text/html": [
              "<div>\n",
              "<style scoped>\n",
              "    .dataframe tbody tr th:only-of-type {\n",
              "        vertical-align: middle;\n",
              "    }\n",
              "\n",
              "    .dataframe tbody tr th {\n",
              "        vertical-align: top;\n",
              "    }\n",
              "\n",
              "    .dataframe thead th {\n",
              "        text-align: right;\n",
              "    }\n",
              "</style>\n",
              "<table border=\"1\" class=\"dataframe\">\n",
              "  <thead>\n",
              "    <tr style=\"text-align: right;\">\n",
              "      <th></th>\n",
              "      <th>instant</th>\n",
              "      <th>dteday</th>\n",
              "      <th>season</th>\n",
              "      <th>yr</th>\n",
              "      <th>mnth</th>\n",
              "      <th>hr</th>\n",
              "      <th>holiday</th>\n",
              "      <th>weekday</th>\n",
              "      <th>workingday</th>\n",
              "      <th>weathersit</th>\n",
              "      <th>temp</th>\n",
              "      <th>atemp</th>\n",
              "      <th>hum</th>\n",
              "      <th>windspeed</th>\n",
              "      <th>casual</th>\n",
              "      <th>registered</th>\n",
              "      <th>cnt</th>\n",
              "    </tr>\n",
              "  </thead>\n",
              "  <tbody>\n",
              "    <tr>\n",
              "      <th>0</th>\n",
              "      <td>1</td>\n",
              "      <td>2011-01-01</td>\n",
              "      <td>1</td>\n",
              "      <td>0</td>\n",
              "      <td>1</td>\n",
              "      <td>0</td>\n",
              "      <td>0</td>\n",
              "      <td>6</td>\n",
              "      <td>0</td>\n",
              "      <td>1</td>\n",
              "      <td>0.24</td>\n",
              "      <td>0.2879</td>\n",
              "      <td>0.81</td>\n",
              "      <td>0.0</td>\n",
              "      <td>3</td>\n",
              "      <td>13</td>\n",
              "      <td>16</td>\n",
              "    </tr>\n",
              "    <tr>\n",
              "      <th>1</th>\n",
              "      <td>2</td>\n",
              "      <td>2011-01-01</td>\n",
              "      <td>1</td>\n",
              "      <td>0</td>\n",
              "      <td>1</td>\n",
              "      <td>1</td>\n",
              "      <td>0</td>\n",
              "      <td>6</td>\n",
              "      <td>0</td>\n",
              "      <td>1</td>\n",
              "      <td>0.22</td>\n",
              "      <td>0.2727</td>\n",
              "      <td>0.80</td>\n",
              "      <td>0.0</td>\n",
              "      <td>8</td>\n",
              "      <td>32</td>\n",
              "      <td>40</td>\n",
              "    </tr>\n",
              "    <tr>\n",
              "      <th>2</th>\n",
              "      <td>3</td>\n",
              "      <td>2011-01-01</td>\n",
              "      <td>1</td>\n",
              "      <td>0</td>\n",
              "      <td>1</td>\n",
              "      <td>2</td>\n",
              "      <td>0</td>\n",
              "      <td>6</td>\n",
              "      <td>0</td>\n",
              "      <td>1</td>\n",
              "      <td>0.22</td>\n",
              "      <td>0.2727</td>\n",
              "      <td>0.80</td>\n",
              "      <td>0.0</td>\n",
              "      <td>5</td>\n",
              "      <td>27</td>\n",
              "      <td>32</td>\n",
              "    </tr>\n",
              "    <tr>\n",
              "      <th>3</th>\n",
              "      <td>4</td>\n",
              "      <td>2011-01-01</td>\n",
              "      <td>1</td>\n",
              "      <td>0</td>\n",
              "      <td>1</td>\n",
              "      <td>3</td>\n",
              "      <td>0</td>\n",
              "      <td>6</td>\n",
              "      <td>0</td>\n",
              "      <td>1</td>\n",
              "      <td>0.24</td>\n",
              "      <td>0.2879</td>\n",
              "      <td>0.75</td>\n",
              "      <td>0.0</td>\n",
              "      <td>3</td>\n",
              "      <td>10</td>\n",
              "      <td>13</td>\n",
              "    </tr>\n",
              "    <tr>\n",
              "      <th>4</th>\n",
              "      <td>5</td>\n",
              "      <td>2011-01-01</td>\n",
              "      <td>1</td>\n",
              "      <td>0</td>\n",
              "      <td>1</td>\n",
              "      <td>4</td>\n",
              "      <td>0</td>\n",
              "      <td>6</td>\n",
              "      <td>0</td>\n",
              "      <td>1</td>\n",
              "      <td>0.24</td>\n",
              "      <td>0.2879</td>\n",
              "      <td>0.75</td>\n",
              "      <td>0.0</td>\n",
              "      <td>0</td>\n",
              "      <td>1</td>\n",
              "      <td>1</td>\n",
              "    </tr>\n",
              "  </tbody>\n",
              "</table>\n",
              "</div>"
            ],
            "text/plain": [
              "   instant      dteday  season  yr  mnth  hr  holiday  weekday  workingday  \\\n",
              "0        1  2011-01-01       1   0     1   0        0        6           0   \n",
              "1        2  2011-01-01       1   0     1   1        0        6           0   \n",
              "2        3  2011-01-01       1   0     1   2        0        6           0   \n",
              "3        4  2011-01-01       1   0     1   3        0        6           0   \n",
              "4        5  2011-01-01       1   0     1   4        0        6           0   \n",
              "\n",
              "   weathersit  temp   atemp   hum  windspeed  casual  registered  cnt  \n",
              "0           1  0.24  0.2879  0.81        0.0       3          13   16  \n",
              "1           1  0.22  0.2727  0.80        0.0       8          32   40  \n",
              "2           1  0.22  0.2727  0.80        0.0       5          27   32  \n",
              "3           1  0.24  0.2879  0.75        0.0       3          10   13  \n",
              "4           1  0.24  0.2879  0.75        0.0       0           1    1  "
            ]
          },
          "execution_count": 116,
          "metadata": {},
          "output_type": "execute_result"
        }
      ],
      "source": [
        "hour.head()"
      ]
    },
    {
      "cell_type": "markdown",
      "metadata": {
        "id": "jHBPiRqSDlj3"
      },
      "source": [
        "Sesuai dengan deskripsi, data memiliki 17 kolom pada data **hour** dan 16 kolom pada data **day**. Perbedaan antara kedua data ada pada kolom 'hr' yang hanya dimiliki oleh data **hour**, kolom tersebut menunjukkan jam dimana data baris tersebut diambil.\n",
        "\n",
        "Selanjutnya dapat diamati bahwa terdapat kolom 'casual', 'registered', dan 'cnt'. Menurut penjelasan pada deskripsi, kolom 'casual' adalah jumlah *user casual*, kolom 'registered' adalah jumlah *user registered*, dan kolom 'cnt' adalah jumlah total sepeda yang disewakan, baik *casual* maupun *registered*. Pernyataan ini sedikit membuat bingung karena kolom 'casual' dan 'registered' merupakan jumlah *user*, bukan jumlah sepeda. Diamati pula bahwa secara perhitungan bahwa kolom 'cnt' merupakan hasil jumlahan antara kolom 'casual' dan kolom 'registered', akan ditunjukkan sebagai berikut:"
      ]
    },
    {
      "cell_type": "code",
      "execution_count": 117,
      "metadata": {
        "colab": {
          "base_uri": "https://localhost:8080/"
        },
        "id": "MuhB53R4o_AY",
        "outputId": "081b16ef-c6af-430f-8dc9-9ea72dfcd529"
      },
      "outputs": [
        {
          "name": "stdout",
          "output_type": "stream",
          "text": [
            "Jumlah baris dengan data jumlahan kolom 'casual' dan 'registered' = 'cnt' pada data day adalah sebanyak 731.\n",
            "Apakah jumlah tersebut sama dengan jumlah seluruh baris pada data? Jawabannya: True\n"
          ]
        }
      ],
      "source": [
        "# Data day\n",
        "hitung_cnt = 0\n",
        "for i in range(0, len(day)):\n",
        "  jumlah_casual_regis = day['casual'][i] + day['registered'][i]\n",
        "  if jumlah_casual_regis == day['cnt'][i]:\n",
        "    hitung_cnt += 1\n",
        "\n",
        "print(\"Jumlah baris dengan data jumlahan kolom 'casual' dan 'registered' = 'cnt' pada data day adalah sebanyak {}.\".format(hitung_cnt))\n",
        "print(\"Apakah jumlah tersebut sama dengan jumlah seluruh baris pada data? Jawabannya: {}\".format(hitung_cnt == len(day)))"
      ]
    },
    {
      "cell_type": "code",
      "execution_count": 118,
      "metadata": {
        "colab": {
          "base_uri": "https://localhost:8080/"
        },
        "id": "qI3phwGKQDXz",
        "outputId": "65164a03-6234-42d6-9227-366b295147a9"
      },
      "outputs": [
        {
          "name": "stdout",
          "output_type": "stream",
          "text": [
            "Jumlah baris dengan data jumlahan kolom 'casual' dan 'registered' = 'cnt' pada data hour adalah sebanyak 17379.\n",
            "Apakah jumlah tersebut sama dengan jumlah seluruh baris pada data? Jawabannya: True\n"
          ]
        }
      ],
      "source": [
        "# Data hour\n",
        "hitung_cnt = 0\n",
        "for i in range(0, len(hour)):\n",
        "  jumlah_casual_regis = hour['casual'][i] + hour['registered'][i]\n",
        "  if jumlah_casual_regis == hour['cnt'][i]:\n",
        "    hitung_cnt += 1\n",
        "\n",
        "print(\"Jumlah baris dengan data jumlahan kolom 'casual' dan 'registered' = 'cnt' pada data hour adalah sebanyak {}.\".format(hitung_cnt))\n",
        "print(\"Apakah jumlah tersebut sama dengan jumlah seluruh baris pada data? Jawabannya: {}\".format(hitung_cnt == len(hour)))"
      ]
    },
    {
      "cell_type": "markdown",
      "metadata": {
        "id": "QNZIp0bXq75g"
      },
      "source": [
        "Didapatkan bahwa jumlah baris dengan data jumlahan kolom 'casual' dan 'registered' = 'cnt' adalah sama dengan seluruh baris data. Sehingga disimpulkan bahwa kolom 'cnt' betul merupakan hasil jumlahan data *user*.\n",
        "\n",
        "Berdasarkan hasil tersebut, akan diambil asumsi bahwa jumlah *user* adalah sama dengan jumlah sepeda yang disewakan, yang berarti jumlah sepeda pada 'cnt' merepresentasikan total jumlah sepeda yang dipesan oleh *user*."
      ]
    },
    {
      "cell_type": "markdown",
      "metadata": {
        "id": "pSHRi0bLs-Wq"
      },
      "source": [
        "#### Melihat Data Lebih Dekat"
      ]
    },
    {
      "cell_type": "markdown",
      "metadata": {
        "id": "cCiqLl_g8Y_l"
      },
      "source": [
        "##### Data **day**"
      ]
    },
    {
      "cell_type": "code",
      "execution_count": 119,
      "metadata": {
        "colab": {
          "base_uri": "https://localhost:8080/",
          "height": 206
        },
        "id": "ax-3tEjc9Cj1",
        "outputId": "0823051e-9989-4d68-88cf-147f1e9a2093"
      },
      "outputs": [
        {
          "data": {
            "text/html": [
              "<div>\n",
              "<style scoped>\n",
              "    .dataframe tbody tr th:only-of-type {\n",
              "        vertical-align: middle;\n",
              "    }\n",
              "\n",
              "    .dataframe tbody tr th {\n",
              "        vertical-align: top;\n",
              "    }\n",
              "\n",
              "    .dataframe thead th {\n",
              "        text-align: right;\n",
              "    }\n",
              "</style>\n",
              "<table border=\"1\" class=\"dataframe\">\n",
              "  <thead>\n",
              "    <tr style=\"text-align: right;\">\n",
              "      <th></th>\n",
              "      <th>instant</th>\n",
              "      <th>dteday</th>\n",
              "      <th>season</th>\n",
              "      <th>yr</th>\n",
              "      <th>mnth</th>\n",
              "      <th>holiday</th>\n",
              "      <th>weekday</th>\n",
              "      <th>workingday</th>\n",
              "      <th>weathersit</th>\n",
              "      <th>temp</th>\n",
              "      <th>atemp</th>\n",
              "      <th>hum</th>\n",
              "      <th>windspeed</th>\n",
              "      <th>casual</th>\n",
              "      <th>registered</th>\n",
              "      <th>cnt</th>\n",
              "    </tr>\n",
              "  </thead>\n",
              "  <tbody>\n",
              "    <tr>\n",
              "      <th>0</th>\n",
              "      <td>1</td>\n",
              "      <td>2011-01-01</td>\n",
              "      <td>1</td>\n",
              "      <td>0</td>\n",
              "      <td>1</td>\n",
              "      <td>0</td>\n",
              "      <td>6</td>\n",
              "      <td>0</td>\n",
              "      <td>2</td>\n",
              "      <td>0.344167</td>\n",
              "      <td>0.363625</td>\n",
              "      <td>0.805833</td>\n",
              "      <td>0.160446</td>\n",
              "      <td>331</td>\n",
              "      <td>654</td>\n",
              "      <td>985</td>\n",
              "    </tr>\n",
              "    <tr>\n",
              "      <th>1</th>\n",
              "      <td>2</td>\n",
              "      <td>2011-01-02</td>\n",
              "      <td>1</td>\n",
              "      <td>0</td>\n",
              "      <td>1</td>\n",
              "      <td>0</td>\n",
              "      <td>0</td>\n",
              "      <td>0</td>\n",
              "      <td>2</td>\n",
              "      <td>0.363478</td>\n",
              "      <td>0.353739</td>\n",
              "      <td>0.696087</td>\n",
              "      <td>0.248539</td>\n",
              "      <td>131</td>\n",
              "      <td>670</td>\n",
              "      <td>801</td>\n",
              "    </tr>\n",
              "    <tr>\n",
              "      <th>2</th>\n",
              "      <td>3</td>\n",
              "      <td>2011-01-03</td>\n",
              "      <td>1</td>\n",
              "      <td>0</td>\n",
              "      <td>1</td>\n",
              "      <td>0</td>\n",
              "      <td>1</td>\n",
              "      <td>1</td>\n",
              "      <td>1</td>\n",
              "      <td>0.196364</td>\n",
              "      <td>0.189405</td>\n",
              "      <td>0.437273</td>\n",
              "      <td>0.248309</td>\n",
              "      <td>120</td>\n",
              "      <td>1229</td>\n",
              "      <td>1349</td>\n",
              "    </tr>\n",
              "    <tr>\n",
              "      <th>3</th>\n",
              "      <td>4</td>\n",
              "      <td>2011-01-04</td>\n",
              "      <td>1</td>\n",
              "      <td>0</td>\n",
              "      <td>1</td>\n",
              "      <td>0</td>\n",
              "      <td>2</td>\n",
              "      <td>1</td>\n",
              "      <td>1</td>\n",
              "      <td>0.200000</td>\n",
              "      <td>0.212122</td>\n",
              "      <td>0.590435</td>\n",
              "      <td>0.160296</td>\n",
              "      <td>108</td>\n",
              "      <td>1454</td>\n",
              "      <td>1562</td>\n",
              "    </tr>\n",
              "    <tr>\n",
              "      <th>4</th>\n",
              "      <td>5</td>\n",
              "      <td>2011-01-05</td>\n",
              "      <td>1</td>\n",
              "      <td>0</td>\n",
              "      <td>1</td>\n",
              "      <td>0</td>\n",
              "      <td>3</td>\n",
              "      <td>1</td>\n",
              "      <td>1</td>\n",
              "      <td>0.226957</td>\n",
              "      <td>0.229270</td>\n",
              "      <td>0.436957</td>\n",
              "      <td>0.186900</td>\n",
              "      <td>82</td>\n",
              "      <td>1518</td>\n",
              "      <td>1600</td>\n",
              "    </tr>\n",
              "  </tbody>\n",
              "</table>\n",
              "</div>"
            ],
            "text/plain": [
              "   instant      dteday  season  yr  mnth  holiday  weekday  workingday  \\\n",
              "0        1  2011-01-01       1   0     1        0        6           0   \n",
              "1        2  2011-01-02       1   0     1        0        0           0   \n",
              "2        3  2011-01-03       1   0     1        0        1           1   \n",
              "3        4  2011-01-04       1   0     1        0        2           1   \n",
              "4        5  2011-01-05       1   0     1        0        3           1   \n",
              "\n",
              "   weathersit      temp     atemp       hum  windspeed  casual  registered  \\\n",
              "0           2  0.344167  0.363625  0.805833   0.160446     331         654   \n",
              "1           2  0.363478  0.353739  0.696087   0.248539     131         670   \n",
              "2           1  0.196364  0.189405  0.437273   0.248309     120        1229   \n",
              "3           1  0.200000  0.212122  0.590435   0.160296     108        1454   \n",
              "4           1  0.226957  0.229270  0.436957   0.186900      82        1518   \n",
              "\n",
              "    cnt  \n",
              "0   985  \n",
              "1   801  \n",
              "2  1349  \n",
              "3  1562  \n",
              "4  1600  "
            ]
          },
          "execution_count": 119,
          "metadata": {},
          "output_type": "execute_result"
        }
      ],
      "source": [
        "# Sekilas data\n",
        "day.head()"
      ]
    },
    {
      "cell_type": "markdown",
      "metadata": {
        "id": "gX07BU6_tsUA"
      },
      "source": [
        "Secara sekilas, data terlihat \"normal\" tanpa ada sesuatu yang perlu penanganan khusus."
      ]
    },
    {
      "cell_type": "code",
      "execution_count": 120,
      "metadata": {
        "colab": {
          "base_uri": "https://localhost:8080/"
        },
        "id": "p_j8KQbE97FS",
        "outputId": "a7616307-40fa-43f9-b636-947e68930c75"
      },
      "outputs": [
        {
          "name": "stdout",
          "output_type": "stream",
          "text": [
            "<class 'pandas.core.frame.DataFrame'>\n",
            "RangeIndex: 731 entries, 0 to 730\n",
            "Data columns (total 16 columns):\n",
            " #   Column      Non-Null Count  Dtype  \n",
            "---  ------      --------------  -----  \n",
            " 0   instant     731 non-null    int64  \n",
            " 1   dteday      731 non-null    object \n",
            " 2   season      731 non-null    int64  \n",
            " 3   yr          731 non-null    int64  \n",
            " 4   mnth        731 non-null    int64  \n",
            " 5   holiday     731 non-null    int64  \n",
            " 6   weekday     731 non-null    int64  \n",
            " 7   workingday  731 non-null    int64  \n",
            " 8   weathersit  731 non-null    int64  \n",
            " 9   temp        731 non-null    float64\n",
            " 10  atemp       731 non-null    float64\n",
            " 11  hum         731 non-null    float64\n",
            " 12  windspeed   731 non-null    float64\n",
            " 13  casual      731 non-null    int64  \n",
            " 14  registered  731 non-null    int64  \n",
            " 15  cnt         731 non-null    int64  \n",
            "dtypes: float64(4), int64(11), object(1)\n",
            "memory usage: 91.5+ KB\n"
          ]
        }
      ],
      "source": [
        "# Informasi umum data\n",
        "day.info()"
      ]
    },
    {
      "cell_type": "markdown",
      "metadata": {
        "id": "tMQvSeqJuTCV"
      },
      "source": [
        "Berdasarkan informasi tentang data harian di atas, dapat dilihat bahwa terdapat beberapa hal yang perlu menjadi catatan sebagai berikut:\n",
        "\n",
        "- Tidak ditemukan *missing value* pada data.\n",
        "- Kolom 'dteday' perlu diubah menjadi tipe data datetime karena merupakan tanggal.\n",
        "- Kolom 'season', 'yr', 'mnth', 'holiday', 'weekday', 'workingday', dan 'weathersit' merupakan data kategorikal (ada yang *binary* dan *non-binary*) dengan kodefikasi bilangan bulat (integer) sehingga perlu disesuaikan dengan maknanya.\n",
        "- Kolom 'instant' perlu dicek lebih lanjut.\n",
        "\n",
        "Selanjutnya akan dilakukan pengecekan terhadap kolom 'instant'"
      ]
    },
    {
      "cell_type": "code",
      "execution_count": 121,
      "metadata": {
        "colab": {
          "base_uri": "https://localhost:8080/"
        },
        "id": "9oKXGkGw-33Q",
        "outputId": "99ec48f3-45f5-4cd1-be82-292f646551ee"
      },
      "outputs": [
        {
          "data": {
            "text/plain": [
              "0        1\n",
              "1        2\n",
              "2        3\n",
              "3        4\n",
              "4        5\n",
              "      ... \n",
              "726    727\n",
              "727    728\n",
              "728    729\n",
              "729    730\n",
              "730    731\n",
              "Name: instant, Length: 731, dtype: int64"
            ]
          },
          "execution_count": 121,
          "metadata": {},
          "output_type": "execute_result"
        }
      ],
      "source": [
        "# Pengurutan kolom 'instant'\n",
        "day['instant'].sort_values()"
      ]
    },
    {
      "cell_type": "markdown",
      "metadata": {
        "id": "jXECcqysFG62"
      },
      "source": [
        "Ditemukan bahwa kolom 'instant' merupakan id dari baris data yang mana tidak dibutuhkan dalam analisis karena telah diwakilkan oleh *index*."
      ]
    },
    {
      "cell_type": "markdown",
      "metadata": {},
      "source": [
        "Berikutnya akan dicek nilai-nilai statistik deskriptif dari kolom numerik pada data harian."
      ]
    },
    {
      "cell_type": "code",
      "execution_count": 122,
      "metadata": {
        "colab": {
          "base_uri": "https://localhost:8080/",
          "height": 300
        },
        "id": "QfeVU20sGHOb",
        "outputId": "ad35f7f7-36cd-4807-87a4-bf1f38b62b25"
      },
      "outputs": [
        {
          "data": {
            "text/html": [
              "<div>\n",
              "<style scoped>\n",
              "    .dataframe tbody tr th:only-of-type {\n",
              "        vertical-align: middle;\n",
              "    }\n",
              "\n",
              "    .dataframe tbody tr th {\n",
              "        vertical-align: top;\n",
              "    }\n",
              "\n",
              "    .dataframe thead th {\n",
              "        text-align: right;\n",
              "    }\n",
              "</style>\n",
              "<table border=\"1\" class=\"dataframe\">\n",
              "  <thead>\n",
              "    <tr style=\"text-align: right;\">\n",
              "      <th></th>\n",
              "      <th>temp</th>\n",
              "      <th>atemp</th>\n",
              "      <th>hum</th>\n",
              "      <th>windspeed</th>\n",
              "      <th>casual</th>\n",
              "      <th>registered</th>\n",
              "      <th>cnt</th>\n",
              "    </tr>\n",
              "  </thead>\n",
              "  <tbody>\n",
              "    <tr>\n",
              "      <th>count</th>\n",
              "      <td>731.000000</td>\n",
              "      <td>731.000000</td>\n",
              "      <td>731.000000</td>\n",
              "      <td>731.000000</td>\n",
              "      <td>731.000000</td>\n",
              "      <td>731.000000</td>\n",
              "      <td>731.000000</td>\n",
              "    </tr>\n",
              "    <tr>\n",
              "      <th>mean</th>\n",
              "      <td>0.495385</td>\n",
              "      <td>0.474354</td>\n",
              "      <td>0.627894</td>\n",
              "      <td>0.190486</td>\n",
              "      <td>848.176471</td>\n",
              "      <td>3656.172367</td>\n",
              "      <td>4504.348837</td>\n",
              "    </tr>\n",
              "    <tr>\n",
              "      <th>std</th>\n",
              "      <td>0.183051</td>\n",
              "      <td>0.162961</td>\n",
              "      <td>0.142429</td>\n",
              "      <td>0.077498</td>\n",
              "      <td>686.622488</td>\n",
              "      <td>1560.256377</td>\n",
              "      <td>1937.211452</td>\n",
              "    </tr>\n",
              "    <tr>\n",
              "      <th>min</th>\n",
              "      <td>0.059130</td>\n",
              "      <td>0.079070</td>\n",
              "      <td>0.000000</td>\n",
              "      <td>0.022392</td>\n",
              "      <td>2.000000</td>\n",
              "      <td>20.000000</td>\n",
              "      <td>22.000000</td>\n",
              "    </tr>\n",
              "    <tr>\n",
              "      <th>25%</th>\n",
              "      <td>0.337083</td>\n",
              "      <td>0.337842</td>\n",
              "      <td>0.520000</td>\n",
              "      <td>0.134950</td>\n",
              "      <td>315.500000</td>\n",
              "      <td>2497.000000</td>\n",
              "      <td>3152.000000</td>\n",
              "    </tr>\n",
              "    <tr>\n",
              "      <th>50%</th>\n",
              "      <td>0.498333</td>\n",
              "      <td>0.486733</td>\n",
              "      <td>0.626667</td>\n",
              "      <td>0.180975</td>\n",
              "      <td>713.000000</td>\n",
              "      <td>3662.000000</td>\n",
              "      <td>4548.000000</td>\n",
              "    </tr>\n",
              "    <tr>\n",
              "      <th>75%</th>\n",
              "      <td>0.655417</td>\n",
              "      <td>0.608602</td>\n",
              "      <td>0.730209</td>\n",
              "      <td>0.233214</td>\n",
              "      <td>1096.000000</td>\n",
              "      <td>4776.500000</td>\n",
              "      <td>5956.000000</td>\n",
              "    </tr>\n",
              "    <tr>\n",
              "      <th>max</th>\n",
              "      <td>0.861667</td>\n",
              "      <td>0.840896</td>\n",
              "      <td>0.972500</td>\n",
              "      <td>0.507463</td>\n",
              "      <td>3410.000000</td>\n",
              "      <td>6946.000000</td>\n",
              "      <td>8714.000000</td>\n",
              "    </tr>\n",
              "  </tbody>\n",
              "</table>\n",
              "</div>"
            ],
            "text/plain": [
              "             temp       atemp         hum   windspeed       casual  \\\n",
              "count  731.000000  731.000000  731.000000  731.000000   731.000000   \n",
              "mean     0.495385    0.474354    0.627894    0.190486   848.176471   \n",
              "std      0.183051    0.162961    0.142429    0.077498   686.622488   \n",
              "min      0.059130    0.079070    0.000000    0.022392     2.000000   \n",
              "25%      0.337083    0.337842    0.520000    0.134950   315.500000   \n",
              "50%      0.498333    0.486733    0.626667    0.180975   713.000000   \n",
              "75%      0.655417    0.608602    0.730209    0.233214  1096.000000   \n",
              "max      0.861667    0.840896    0.972500    0.507463  3410.000000   \n",
              "\n",
              "        registered          cnt  \n",
              "count   731.000000   731.000000  \n",
              "mean   3656.172367  4504.348837  \n",
              "std    1560.256377  1937.211452  \n",
              "min      20.000000    22.000000  \n",
              "25%    2497.000000  3152.000000  \n",
              "50%    3662.000000  4548.000000  \n",
              "75%    4776.500000  5956.000000  \n",
              "max    6946.000000  8714.000000  "
            ]
          },
          "execution_count": 122,
          "metadata": {},
          "output_type": "execute_result"
        }
      ],
      "source": [
        "# Deskripsi data numerik\n",
        "day[['temp', 'atemp', 'hum', 'windspeed', 'casual', 'registered', 'cnt']].describe()"
      ]
    },
    {
      "cell_type": "markdown",
      "metadata": {
        "id": "kxhY4ItQHpHP"
      },
      "source": [
        "Tidak terlihat adanya kejanggalan pada kolom numerik data harian."
      ]
    },
    {
      "cell_type": "markdown",
      "metadata": {},
      "source": [
        "Selanjutnya, dari kolom-kolom kategorik yang telah diidentifikasi, akan dilihat kategori-kategori apa saja yang termuat dan apakah terdapat data yang perlu dibenahi."
      ]
    },
    {
      "cell_type": "code",
      "execution_count": 123,
      "metadata": {
        "colab": {
          "base_uri": "https://localhost:8080/"
        },
        "id": "XvngCnD7Hyo8",
        "outputId": "78df9e0b-6ead-4102-d133-254570d9e986"
      },
      "outputs": [
        {
          "data": {
            "text/plain": [
              "season\n",
              "3    188\n",
              "2    184\n",
              "1    181\n",
              "4    178\n",
              "Name: count, dtype: int64"
            ]
          },
          "execution_count": 123,
          "metadata": {},
          "output_type": "execute_result"
        }
      ],
      "source": [
        "# Data kategorik 'season'\n",
        "day['season'].value_counts()"
      ]
    },
    {
      "cell_type": "code",
      "execution_count": 124,
      "metadata": {
        "colab": {
          "base_uri": "https://localhost:8080/"
        },
        "id": "Vv7SIS0iIf19",
        "outputId": "49d47df9-c753-4e14-aa37-34fd63373075"
      },
      "outputs": [
        {
          "data": {
            "text/plain": [
              "yr\n",
              "1    366\n",
              "0    365\n",
              "Name: count, dtype: int64"
            ]
          },
          "execution_count": 124,
          "metadata": {},
          "output_type": "execute_result"
        }
      ],
      "source": [
        "# Data kategorik 'yr'\n",
        "day['yr'].value_counts()"
      ]
    },
    {
      "cell_type": "code",
      "execution_count": 125,
      "metadata": {
        "colab": {
          "base_uri": "https://localhost:8080/"
        },
        "id": "pOTDExiqInxz",
        "outputId": "f30cb985-27b7-4460-d8c8-6ccffa5d32f5"
      },
      "outputs": [
        {
          "data": {
            "text/plain": [
              "mnth\n",
              "1     62\n",
              "3     62\n",
              "5     62\n",
              "7     62\n",
              "8     62\n",
              "10    62\n",
              "12    62\n",
              "4     60\n",
              "6     60\n",
              "9     60\n",
              "11    60\n",
              "2     57\n",
              "Name: count, dtype: int64"
            ]
          },
          "execution_count": 125,
          "metadata": {},
          "output_type": "execute_result"
        }
      ],
      "source": [
        "# Data kategorik 'mnth'\n",
        "day['mnth'].value_counts()"
      ]
    },
    {
      "cell_type": "code",
      "execution_count": 126,
      "metadata": {
        "colab": {
          "base_uri": "https://localhost:8080/"
        },
        "id": "h9A8VKvGIsS1",
        "outputId": "9169e7f5-8b8d-4e95-cba3-940a05ec4050"
      },
      "outputs": [
        {
          "data": {
            "text/plain": [
              "holiday\n",
              "0    710\n",
              "1     21\n",
              "Name: count, dtype: int64"
            ]
          },
          "execution_count": 126,
          "metadata": {},
          "output_type": "execute_result"
        }
      ],
      "source": [
        "# Data kategorik 'holiday'\n",
        "day['holiday'].value_counts()"
      ]
    },
    {
      "cell_type": "code",
      "execution_count": 127,
      "metadata": {
        "colab": {
          "base_uri": "https://localhost:8080/"
        },
        "id": "y6i8BAwtJcok",
        "outputId": "ccf9ae60-bf52-4e42-a799-41318e17e53d"
      },
      "outputs": [
        {
          "data": {
            "text/plain": [
              "weekday\n",
              "6    105\n",
              "0    105\n",
              "1    105\n",
              "2    104\n",
              "3    104\n",
              "4    104\n",
              "5    104\n",
              "Name: count, dtype: int64"
            ]
          },
          "execution_count": 127,
          "metadata": {},
          "output_type": "execute_result"
        }
      ],
      "source": [
        "# Data kategorik 'weekday'\n",
        "day['weekday'].value_counts()"
      ]
    },
    {
      "cell_type": "code",
      "execution_count": 128,
      "metadata": {
        "colab": {
          "base_uri": "https://localhost:8080/"
        },
        "id": "RE7MXhQ0NaKL",
        "outputId": "55f64e49-b97e-437e-fc01-e5601c5b798f"
      },
      "outputs": [
        {
          "data": {
            "text/plain": [
              "workingday\n",
              "1    500\n",
              "0    231\n",
              "Name: count, dtype: int64"
            ]
          },
          "execution_count": 128,
          "metadata": {},
          "output_type": "execute_result"
        }
      ],
      "source": [
        "# Data kategorik 'workingday'\n",
        "day['workingday'].value_counts()"
      ]
    },
    {
      "cell_type": "code",
      "execution_count": 129,
      "metadata": {
        "colab": {
          "base_uri": "https://localhost:8080/"
        },
        "id": "3qp3V9D7Jh7s",
        "outputId": "dc7c07e4-605f-4649-a340-f80c470874b8"
      },
      "outputs": [
        {
          "data": {
            "text/plain": [
              "weathersit\n",
              "1    463\n",
              "2    247\n",
              "3     21\n",
              "Name: count, dtype: int64"
            ]
          },
          "execution_count": 129,
          "metadata": {},
          "output_type": "execute_result"
        }
      ],
      "source": [
        "# Data kategorik 'weathersit'\n",
        "day['weathersit'].value_counts()"
      ]
    },
    {
      "cell_type": "markdown",
      "metadata": {
        "id": "ZDVoaZ2gJu1v"
      },
      "source": [
        "Dari hasil pengecekan di atas, tidak terlihat adanya kejanggalan pada data kolom kategorik."
      ]
    },
    {
      "cell_type": "markdown",
      "metadata": {},
      "source": [
        "Selanjutnya dicek apakah terdapat duplikasi data."
      ]
    },
    {
      "cell_type": "code",
      "execution_count": 130,
      "metadata": {
        "colab": {
          "base_uri": "https://localhost:8080/",
          "height": 53
        },
        "id": "iGv-gUNkPx33",
        "outputId": "b4789ca0-cfb7-44fd-8ef7-bb7f97bd8336"
      },
      "outputs": [
        {
          "data": {
            "text/html": [
              "<div>\n",
              "<style scoped>\n",
              "    .dataframe tbody tr th:only-of-type {\n",
              "        vertical-align: middle;\n",
              "    }\n",
              "\n",
              "    .dataframe tbody tr th {\n",
              "        vertical-align: top;\n",
              "    }\n",
              "\n",
              "    .dataframe thead th {\n",
              "        text-align: right;\n",
              "    }\n",
              "</style>\n",
              "<table border=\"1\" class=\"dataframe\">\n",
              "  <thead>\n",
              "    <tr style=\"text-align: right;\">\n",
              "      <th></th>\n",
              "      <th>instant</th>\n",
              "      <th>dteday</th>\n",
              "      <th>season</th>\n",
              "      <th>yr</th>\n",
              "      <th>mnth</th>\n",
              "      <th>holiday</th>\n",
              "      <th>weekday</th>\n",
              "      <th>workingday</th>\n",
              "      <th>weathersit</th>\n",
              "      <th>temp</th>\n",
              "      <th>atemp</th>\n",
              "      <th>hum</th>\n",
              "      <th>windspeed</th>\n",
              "      <th>casual</th>\n",
              "      <th>registered</th>\n",
              "      <th>cnt</th>\n",
              "    </tr>\n",
              "  </thead>\n",
              "  <tbody>\n",
              "  </tbody>\n",
              "</table>\n",
              "</div>"
            ],
            "text/plain": [
              "Empty DataFrame\n",
              "Columns: [instant, dteday, season, yr, mnth, holiday, weekday, workingday, weathersit, temp, atemp, hum, windspeed, casual, registered, cnt]\n",
              "Index: []"
            ]
          },
          "execution_count": 130,
          "metadata": {},
          "output_type": "execute_result"
        }
      ],
      "source": [
        "# Cek duplikasi data\n",
        "day[day.duplicated()]"
      ]
    },
    {
      "cell_type": "markdown",
      "metadata": {
        "id": "sfDj9AoaPx37"
      },
      "source": [
        "Tidak ditemukan duplikasi data."
      ]
    },
    {
      "cell_type": "markdown",
      "metadata": {
        "id": "uPaKfQVXFvyj"
      },
      "source": [
        "##### Data **hour**"
      ]
    },
    {
      "cell_type": "code",
      "execution_count": 131,
      "metadata": {
        "colab": {
          "base_uri": "https://localhost:8080/",
          "height": 206
        },
        "id": "0LaMic3cKltN",
        "outputId": "3f668bdf-e18d-4f8a-faa1-abed08e552dd"
      },
      "outputs": [
        {
          "data": {
            "text/html": [
              "<div>\n",
              "<style scoped>\n",
              "    .dataframe tbody tr th:only-of-type {\n",
              "        vertical-align: middle;\n",
              "    }\n",
              "\n",
              "    .dataframe tbody tr th {\n",
              "        vertical-align: top;\n",
              "    }\n",
              "\n",
              "    .dataframe thead th {\n",
              "        text-align: right;\n",
              "    }\n",
              "</style>\n",
              "<table border=\"1\" class=\"dataframe\">\n",
              "  <thead>\n",
              "    <tr style=\"text-align: right;\">\n",
              "      <th></th>\n",
              "      <th>instant</th>\n",
              "      <th>dteday</th>\n",
              "      <th>season</th>\n",
              "      <th>yr</th>\n",
              "      <th>mnth</th>\n",
              "      <th>hr</th>\n",
              "      <th>holiday</th>\n",
              "      <th>weekday</th>\n",
              "      <th>workingday</th>\n",
              "      <th>weathersit</th>\n",
              "      <th>temp</th>\n",
              "      <th>atemp</th>\n",
              "      <th>hum</th>\n",
              "      <th>windspeed</th>\n",
              "      <th>casual</th>\n",
              "      <th>registered</th>\n",
              "      <th>cnt</th>\n",
              "    </tr>\n",
              "  </thead>\n",
              "  <tbody>\n",
              "    <tr>\n",
              "      <th>0</th>\n",
              "      <td>1</td>\n",
              "      <td>2011-01-01</td>\n",
              "      <td>1</td>\n",
              "      <td>0</td>\n",
              "      <td>1</td>\n",
              "      <td>0</td>\n",
              "      <td>0</td>\n",
              "      <td>6</td>\n",
              "      <td>0</td>\n",
              "      <td>1</td>\n",
              "      <td>0.24</td>\n",
              "      <td>0.2879</td>\n",
              "      <td>0.81</td>\n",
              "      <td>0.0</td>\n",
              "      <td>3</td>\n",
              "      <td>13</td>\n",
              "      <td>16</td>\n",
              "    </tr>\n",
              "    <tr>\n",
              "      <th>1</th>\n",
              "      <td>2</td>\n",
              "      <td>2011-01-01</td>\n",
              "      <td>1</td>\n",
              "      <td>0</td>\n",
              "      <td>1</td>\n",
              "      <td>1</td>\n",
              "      <td>0</td>\n",
              "      <td>6</td>\n",
              "      <td>0</td>\n",
              "      <td>1</td>\n",
              "      <td>0.22</td>\n",
              "      <td>0.2727</td>\n",
              "      <td>0.80</td>\n",
              "      <td>0.0</td>\n",
              "      <td>8</td>\n",
              "      <td>32</td>\n",
              "      <td>40</td>\n",
              "    </tr>\n",
              "    <tr>\n",
              "      <th>2</th>\n",
              "      <td>3</td>\n",
              "      <td>2011-01-01</td>\n",
              "      <td>1</td>\n",
              "      <td>0</td>\n",
              "      <td>1</td>\n",
              "      <td>2</td>\n",
              "      <td>0</td>\n",
              "      <td>6</td>\n",
              "      <td>0</td>\n",
              "      <td>1</td>\n",
              "      <td>0.22</td>\n",
              "      <td>0.2727</td>\n",
              "      <td>0.80</td>\n",
              "      <td>0.0</td>\n",
              "      <td>5</td>\n",
              "      <td>27</td>\n",
              "      <td>32</td>\n",
              "    </tr>\n",
              "    <tr>\n",
              "      <th>3</th>\n",
              "      <td>4</td>\n",
              "      <td>2011-01-01</td>\n",
              "      <td>1</td>\n",
              "      <td>0</td>\n",
              "      <td>1</td>\n",
              "      <td>3</td>\n",
              "      <td>0</td>\n",
              "      <td>6</td>\n",
              "      <td>0</td>\n",
              "      <td>1</td>\n",
              "      <td>0.24</td>\n",
              "      <td>0.2879</td>\n",
              "      <td>0.75</td>\n",
              "      <td>0.0</td>\n",
              "      <td>3</td>\n",
              "      <td>10</td>\n",
              "      <td>13</td>\n",
              "    </tr>\n",
              "    <tr>\n",
              "      <th>4</th>\n",
              "      <td>5</td>\n",
              "      <td>2011-01-01</td>\n",
              "      <td>1</td>\n",
              "      <td>0</td>\n",
              "      <td>1</td>\n",
              "      <td>4</td>\n",
              "      <td>0</td>\n",
              "      <td>6</td>\n",
              "      <td>0</td>\n",
              "      <td>1</td>\n",
              "      <td>0.24</td>\n",
              "      <td>0.2879</td>\n",
              "      <td>0.75</td>\n",
              "      <td>0.0</td>\n",
              "      <td>0</td>\n",
              "      <td>1</td>\n",
              "      <td>1</td>\n",
              "    </tr>\n",
              "  </tbody>\n",
              "</table>\n",
              "</div>"
            ],
            "text/plain": [
              "   instant      dteday  season  yr  mnth  hr  holiday  weekday  workingday  \\\n",
              "0        1  2011-01-01       1   0     1   0        0        6           0   \n",
              "1        2  2011-01-01       1   0     1   1        0        6           0   \n",
              "2        3  2011-01-01       1   0     1   2        0        6           0   \n",
              "3        4  2011-01-01       1   0     1   3        0        6           0   \n",
              "4        5  2011-01-01       1   0     1   4        0        6           0   \n",
              "\n",
              "   weathersit  temp   atemp   hum  windspeed  casual  registered  cnt  \n",
              "0           1  0.24  0.2879  0.81        0.0       3          13   16  \n",
              "1           1  0.22  0.2727  0.80        0.0       8          32   40  \n",
              "2           1  0.22  0.2727  0.80        0.0       5          27   32  \n",
              "3           1  0.24  0.2879  0.75        0.0       3          10   13  \n",
              "4           1  0.24  0.2879  0.75        0.0       0           1    1  "
            ]
          },
          "execution_count": 131,
          "metadata": {},
          "output_type": "execute_result"
        }
      ],
      "source": [
        "# Sekilas data\n",
        "hour.head()"
      ]
    },
    {
      "cell_type": "markdown",
      "metadata": {
        "id": "rc0oWPwkKltt"
      },
      "source": [
        "Secara sekilas, data terlihat \"normal\" tanpa ada sesuatu yang perlu penanganan khusus."
      ]
    },
    {
      "cell_type": "code",
      "execution_count": 132,
      "metadata": {
        "colab": {
          "base_uri": "https://localhost:8080/"
        },
        "id": "sL-kwoiMKltu",
        "outputId": "b26f2cbb-c1b5-48f3-bc36-5af3a8c43faf"
      },
      "outputs": [
        {
          "name": "stdout",
          "output_type": "stream",
          "text": [
            "<class 'pandas.core.frame.DataFrame'>\n",
            "RangeIndex: 17379 entries, 0 to 17378\n",
            "Data columns (total 17 columns):\n",
            " #   Column      Non-Null Count  Dtype  \n",
            "---  ------      --------------  -----  \n",
            " 0   instant     17379 non-null  int64  \n",
            " 1   dteday      17379 non-null  object \n",
            " 2   season      17379 non-null  int64  \n",
            " 3   yr          17379 non-null  int64  \n",
            " 4   mnth        17379 non-null  int64  \n",
            " 5   hr          17379 non-null  int64  \n",
            " 6   holiday     17379 non-null  int64  \n",
            " 7   weekday     17379 non-null  int64  \n",
            " 8   workingday  17379 non-null  int64  \n",
            " 9   weathersit  17379 non-null  int64  \n",
            " 10  temp        17379 non-null  float64\n",
            " 11  atemp       17379 non-null  float64\n",
            " 12  hum         17379 non-null  float64\n",
            " 13  windspeed   17379 non-null  float64\n",
            " 14  casual      17379 non-null  int64  \n",
            " 15  registered  17379 non-null  int64  \n",
            " 16  cnt         17379 non-null  int64  \n",
            "dtypes: float64(4), int64(12), object(1)\n",
            "memory usage: 2.3+ MB\n"
          ]
        }
      ],
      "source": [
        "# Informasi umum data\n",
        "hour.info()"
      ]
    },
    {
      "cell_type": "markdown",
      "metadata": {
        "id": "pJwTTjhCKltv"
      },
      "source": [
        "Berdasarkan informasi tentang data harian di atas, dapat dilihat bahwa terdapat beberapa hal yang perlu menjadi catatan sebagai berikut:\n",
        "\n",
        "- Tidak ditemukan *missing value* pada data.\n",
        "- Kolom 'dteday' perlu diubah menjadi tipe data datetime karena merupakan tanggal.\n",
        "- Kolom 'season', 'yr', 'mnth', 'holiday', 'weekday', 'workingday', 'weathersit', dan 'hr' merupakan data kategorikal (ada yang *binary* dan *non-binary*) dengan kodefikasi bilangan bulat (integer) sehingga perlu disesuaikan dengan maknanya.\n",
        "- Kolom 'instant' perlu dicek lebih lanjut.\n",
        "\n",
        "Selanjutnya akan dilakukan pengecekan terhadap kolom 'instant'."
      ]
    },
    {
      "cell_type": "code",
      "execution_count": 133,
      "metadata": {
        "colab": {
          "base_uri": "https://localhost:8080/"
        },
        "id": "QB7qvLkvKltv",
        "outputId": "84ce145b-6d55-433f-f332-e23e9362e16e"
      },
      "outputs": [
        {
          "data": {
            "text/plain": [
              "0            1\n",
              "1            2\n",
              "2            3\n",
              "3            4\n",
              "4            5\n",
              "         ...  \n",
              "17374    17375\n",
              "17375    17376\n",
              "17376    17377\n",
              "17377    17378\n",
              "17378    17379\n",
              "Name: instant, Length: 17379, dtype: int64"
            ]
          },
          "execution_count": 133,
          "metadata": {},
          "output_type": "execute_result"
        }
      ],
      "source": [
        "# Pengurutan kolom 'instant'\n",
        "hour['instant'].sort_values()"
      ]
    },
    {
      "cell_type": "markdown",
      "metadata": {
        "id": "YrwKp35cKltw"
      },
      "source": [
        "Ditemukan bahwa kolom 'instant' merupakan id dari baris data yang mana tidak dibutuhkan dalam analisis karena telah diwakilkan oleh *index*."
      ]
    },
    {
      "cell_type": "markdown",
      "metadata": {},
      "source": [
        "Berikutnya akan dicek nilai-nilai statistik deskriptif dari kolom numerik pada data jam-an."
      ]
    },
    {
      "cell_type": "code",
      "execution_count": 134,
      "metadata": {
        "colab": {
          "base_uri": "https://localhost:8080/",
          "height": 300
        },
        "id": "a4HyzWC7Kltw",
        "outputId": "de62068c-7605-437e-9e38-4d823dec42cf"
      },
      "outputs": [
        {
          "data": {
            "text/html": [
              "<div>\n",
              "<style scoped>\n",
              "    .dataframe tbody tr th:only-of-type {\n",
              "        vertical-align: middle;\n",
              "    }\n",
              "\n",
              "    .dataframe tbody tr th {\n",
              "        vertical-align: top;\n",
              "    }\n",
              "\n",
              "    .dataframe thead th {\n",
              "        text-align: right;\n",
              "    }\n",
              "</style>\n",
              "<table border=\"1\" class=\"dataframe\">\n",
              "  <thead>\n",
              "    <tr style=\"text-align: right;\">\n",
              "      <th></th>\n",
              "      <th>temp</th>\n",
              "      <th>atemp</th>\n",
              "      <th>hum</th>\n",
              "      <th>windspeed</th>\n",
              "      <th>casual</th>\n",
              "      <th>registered</th>\n",
              "      <th>cnt</th>\n",
              "    </tr>\n",
              "  </thead>\n",
              "  <tbody>\n",
              "    <tr>\n",
              "      <th>count</th>\n",
              "      <td>17379.000000</td>\n",
              "      <td>17379.000000</td>\n",
              "      <td>17379.000000</td>\n",
              "      <td>17379.000000</td>\n",
              "      <td>17379.000000</td>\n",
              "      <td>17379.000000</td>\n",
              "      <td>17379.000000</td>\n",
              "    </tr>\n",
              "    <tr>\n",
              "      <th>mean</th>\n",
              "      <td>0.496987</td>\n",
              "      <td>0.475775</td>\n",
              "      <td>0.627229</td>\n",
              "      <td>0.190098</td>\n",
              "      <td>35.676218</td>\n",
              "      <td>153.786869</td>\n",
              "      <td>189.463088</td>\n",
              "    </tr>\n",
              "    <tr>\n",
              "      <th>std</th>\n",
              "      <td>0.192556</td>\n",
              "      <td>0.171850</td>\n",
              "      <td>0.192930</td>\n",
              "      <td>0.122340</td>\n",
              "      <td>49.305030</td>\n",
              "      <td>151.357286</td>\n",
              "      <td>181.387599</td>\n",
              "    </tr>\n",
              "    <tr>\n",
              "      <th>min</th>\n",
              "      <td>0.020000</td>\n",
              "      <td>0.000000</td>\n",
              "      <td>0.000000</td>\n",
              "      <td>0.000000</td>\n",
              "      <td>0.000000</td>\n",
              "      <td>0.000000</td>\n",
              "      <td>1.000000</td>\n",
              "    </tr>\n",
              "    <tr>\n",
              "      <th>25%</th>\n",
              "      <td>0.340000</td>\n",
              "      <td>0.333300</td>\n",
              "      <td>0.480000</td>\n",
              "      <td>0.104500</td>\n",
              "      <td>4.000000</td>\n",
              "      <td>34.000000</td>\n",
              "      <td>40.000000</td>\n",
              "    </tr>\n",
              "    <tr>\n",
              "      <th>50%</th>\n",
              "      <td>0.500000</td>\n",
              "      <td>0.484800</td>\n",
              "      <td>0.630000</td>\n",
              "      <td>0.194000</td>\n",
              "      <td>17.000000</td>\n",
              "      <td>115.000000</td>\n",
              "      <td>142.000000</td>\n",
              "    </tr>\n",
              "    <tr>\n",
              "      <th>75%</th>\n",
              "      <td>0.660000</td>\n",
              "      <td>0.621200</td>\n",
              "      <td>0.780000</td>\n",
              "      <td>0.253700</td>\n",
              "      <td>48.000000</td>\n",
              "      <td>220.000000</td>\n",
              "      <td>281.000000</td>\n",
              "    </tr>\n",
              "    <tr>\n",
              "      <th>max</th>\n",
              "      <td>1.000000</td>\n",
              "      <td>1.000000</td>\n",
              "      <td>1.000000</td>\n",
              "      <td>0.850700</td>\n",
              "      <td>367.000000</td>\n",
              "      <td>886.000000</td>\n",
              "      <td>977.000000</td>\n",
              "    </tr>\n",
              "  </tbody>\n",
              "</table>\n",
              "</div>"
            ],
            "text/plain": [
              "               temp         atemp           hum     windspeed        casual  \\\n",
              "count  17379.000000  17379.000000  17379.000000  17379.000000  17379.000000   \n",
              "mean       0.496987      0.475775      0.627229      0.190098     35.676218   \n",
              "std        0.192556      0.171850      0.192930      0.122340     49.305030   \n",
              "min        0.020000      0.000000      0.000000      0.000000      0.000000   \n",
              "25%        0.340000      0.333300      0.480000      0.104500      4.000000   \n",
              "50%        0.500000      0.484800      0.630000      0.194000     17.000000   \n",
              "75%        0.660000      0.621200      0.780000      0.253700     48.000000   \n",
              "max        1.000000      1.000000      1.000000      0.850700    367.000000   \n",
              "\n",
              "         registered           cnt  \n",
              "count  17379.000000  17379.000000  \n",
              "mean     153.786869    189.463088  \n",
              "std      151.357286    181.387599  \n",
              "min        0.000000      1.000000  \n",
              "25%       34.000000     40.000000  \n",
              "50%      115.000000    142.000000  \n",
              "75%      220.000000    281.000000  \n",
              "max      886.000000    977.000000  "
            ]
          },
          "execution_count": 134,
          "metadata": {},
          "output_type": "execute_result"
        }
      ],
      "source": [
        "# Deskripsi data numerik\n",
        "hour[['temp', 'atemp', 'hum', 'windspeed', 'casual', 'registered', 'cnt']].describe()"
      ]
    },
    {
      "cell_type": "markdown",
      "metadata": {
        "id": "iXqd19M-Kltx"
      },
      "source": [
        "Tidak terlihat adanya kejanggalan pada kolom numerik data jam-an."
      ]
    },
    {
      "cell_type": "markdown",
      "metadata": {},
      "source": [
        "Selanjutnya, dari kolom-kolom kategorik yang telah diidentifikasi, akan dilihat kategori-kategori apa saja yang termuat dan apakah terdapat data yang perlu dibenahi."
      ]
    },
    {
      "cell_type": "code",
      "execution_count": 135,
      "metadata": {
        "colab": {
          "base_uri": "https://localhost:8080/"
        },
        "id": "M5KvF-TgKltx",
        "outputId": "2815ab27-445f-4c98-80c9-a225d63d1c41"
      },
      "outputs": [
        {
          "data": {
            "text/plain": [
              "season\n",
              "3    4496\n",
              "2    4409\n",
              "1    4242\n",
              "4    4232\n",
              "Name: count, dtype: int64"
            ]
          },
          "execution_count": 135,
          "metadata": {},
          "output_type": "execute_result"
        }
      ],
      "source": [
        "# Data kategorik 'season'\n",
        "hour['season'].value_counts()"
      ]
    },
    {
      "cell_type": "code",
      "execution_count": 136,
      "metadata": {
        "colab": {
          "base_uri": "https://localhost:8080/"
        },
        "id": "fczGE8MTKlty",
        "outputId": "2687a154-299f-4ebf-b3a0-cbca635743bf"
      },
      "outputs": [
        {
          "data": {
            "text/plain": [
              "yr\n",
              "1    8734\n",
              "0    8645\n",
              "Name: count, dtype: int64"
            ]
          },
          "execution_count": 136,
          "metadata": {},
          "output_type": "execute_result"
        }
      ],
      "source": [
        "# Data kategorik 'yr'\n",
        "hour['yr'].value_counts()"
      ]
    },
    {
      "cell_type": "code",
      "execution_count": 137,
      "metadata": {
        "colab": {
          "base_uri": "https://localhost:8080/"
        },
        "id": "d8rFcVIWKltz",
        "outputId": "93a38fe9-05b4-4c9a-8398-b3257e6246f7"
      },
      "outputs": [
        {
          "data": {
            "text/plain": [
              "mnth\n",
              "5     1488\n",
              "7     1488\n",
              "12    1483\n",
              "8     1475\n",
              "3     1473\n",
              "10    1451\n",
              "6     1440\n",
              "4     1437\n",
              "9     1437\n",
              "11    1437\n",
              "1     1429\n",
              "2     1341\n",
              "Name: count, dtype: int64"
            ]
          },
          "execution_count": 137,
          "metadata": {},
          "output_type": "execute_result"
        }
      ],
      "source": [
        "# Data kategorik 'mnth'\n",
        "hour['mnth'].value_counts()"
      ]
    },
    {
      "cell_type": "code",
      "execution_count": 138,
      "metadata": {
        "colab": {
          "base_uri": "https://localhost:8080/"
        },
        "id": "XZPcOQoFKlt0",
        "outputId": "9682806f-f452-4c7a-d56c-afeba01c3e4e"
      },
      "outputs": [
        {
          "data": {
            "text/plain": [
              "holiday\n",
              "0    16879\n",
              "1      500\n",
              "Name: count, dtype: int64"
            ]
          },
          "execution_count": 138,
          "metadata": {},
          "output_type": "execute_result"
        }
      ],
      "source": [
        "# Data kategorik 'holiday'\n",
        "hour['holiday'].value_counts()"
      ]
    },
    {
      "cell_type": "code",
      "execution_count": 139,
      "metadata": {
        "colab": {
          "base_uri": "https://localhost:8080/"
        },
        "id": "yvg4Sf0UKlt0",
        "outputId": "8b861ebd-35b9-4c75-aa2b-b62bc7652039"
      },
      "outputs": [
        {
          "data": {
            "text/plain": [
              "weekday\n",
              "6    2512\n",
              "0    2502\n",
              "5    2487\n",
              "1    2479\n",
              "3    2475\n",
              "4    2471\n",
              "2    2453\n",
              "Name: count, dtype: int64"
            ]
          },
          "execution_count": 139,
          "metadata": {},
          "output_type": "execute_result"
        }
      ],
      "source": [
        "# Data kategorik 'weekday'\n",
        "hour['weekday'].value_counts()"
      ]
    },
    {
      "cell_type": "code",
      "execution_count": 140,
      "metadata": {
        "colab": {
          "base_uri": "https://localhost:8080/"
        },
        "id": "mkpzda2QNiy_",
        "outputId": "83e6d247-3d24-4c5f-91f0-32dc676c3d50"
      },
      "outputs": [
        {
          "data": {
            "text/plain": [
              "workingday\n",
              "1    11865\n",
              "0     5514\n",
              "Name: count, dtype: int64"
            ]
          },
          "execution_count": 140,
          "metadata": {},
          "output_type": "execute_result"
        }
      ],
      "source": [
        "# Data kategorik 'workingday'\n",
        "hour['workingday'].value_counts()"
      ]
    },
    {
      "cell_type": "code",
      "execution_count": 141,
      "metadata": {
        "colab": {
          "base_uri": "https://localhost:8080/"
        },
        "id": "gEgJ5KMbKlt1",
        "outputId": "33aa70c2-0753-4e32-b07c-cce6a3e7b3cd"
      },
      "outputs": [
        {
          "data": {
            "text/plain": [
              "weathersit\n",
              "1    11413\n",
              "2     4544\n",
              "3     1419\n",
              "4        3\n",
              "Name: count, dtype: int64"
            ]
          },
          "execution_count": 141,
          "metadata": {},
          "output_type": "execute_result"
        }
      ],
      "source": [
        "# Data kategorik 'weathersit'\n",
        "hour['weathersit'].value_counts()"
      ]
    },
    {
      "cell_type": "code",
      "execution_count": 142,
      "metadata": {},
      "outputs": [
        {
          "data": {
            "text/plain": [
              "hr\n",
              "17    730\n",
              "16    730\n",
              "13    729\n",
              "15    729\n",
              "14    729\n",
              "12    728\n",
              "22    728\n",
              "21    728\n",
              "20    728\n",
              "19    728\n",
              "18    728\n",
              "23    728\n",
              "11    727\n",
              "10    727\n",
              "9     727\n",
              "8     727\n",
              "7     727\n",
              "0     726\n",
              "6     725\n",
              "1     724\n",
              "5     717\n",
              "2     715\n",
              "4     697\n",
              "3     697\n",
              "Name: count, dtype: int64"
            ]
          },
          "execution_count": 142,
          "metadata": {},
          "output_type": "execute_result"
        }
      ],
      "source": [
        "# Data kategorik 'hr'\n",
        "hour['hr'].value_counts()"
      ]
    },
    {
      "cell_type": "markdown",
      "metadata": {
        "id": "xwT4vE1GKlt2"
      },
      "source": [
        "Dari hasil pengecekan di atas, tidak terlihat adanya kejanggalan pada data kolom kategorik."
      ]
    },
    {
      "cell_type": "markdown",
      "metadata": {},
      "source": [
        "Selanjutnya dicek apakah terdapat duplikasi data."
      ]
    },
    {
      "cell_type": "code",
      "execution_count": 143,
      "metadata": {
        "colab": {
          "base_uri": "https://localhost:8080/",
          "height": 53
        },
        "id": "4HoMrrEePZ7X",
        "outputId": "9bbf57e8-389c-474f-c0e7-ad01986d0197"
      },
      "outputs": [
        {
          "data": {
            "text/html": [
              "<div>\n",
              "<style scoped>\n",
              "    .dataframe tbody tr th:only-of-type {\n",
              "        vertical-align: middle;\n",
              "    }\n",
              "\n",
              "    .dataframe tbody tr th {\n",
              "        vertical-align: top;\n",
              "    }\n",
              "\n",
              "    .dataframe thead th {\n",
              "        text-align: right;\n",
              "    }\n",
              "</style>\n",
              "<table border=\"1\" class=\"dataframe\">\n",
              "  <thead>\n",
              "    <tr style=\"text-align: right;\">\n",
              "      <th></th>\n",
              "      <th>instant</th>\n",
              "      <th>dteday</th>\n",
              "      <th>season</th>\n",
              "      <th>yr</th>\n",
              "      <th>mnth</th>\n",
              "      <th>hr</th>\n",
              "      <th>holiday</th>\n",
              "      <th>weekday</th>\n",
              "      <th>workingday</th>\n",
              "      <th>weathersit</th>\n",
              "      <th>temp</th>\n",
              "      <th>atemp</th>\n",
              "      <th>hum</th>\n",
              "      <th>windspeed</th>\n",
              "      <th>casual</th>\n",
              "      <th>registered</th>\n",
              "      <th>cnt</th>\n",
              "    </tr>\n",
              "  </thead>\n",
              "  <tbody>\n",
              "  </tbody>\n",
              "</table>\n",
              "</div>"
            ],
            "text/plain": [
              "Empty DataFrame\n",
              "Columns: [instant, dteday, season, yr, mnth, hr, holiday, weekday, workingday, weathersit, temp, atemp, hum, windspeed, casual, registered, cnt]\n",
              "Index: []"
            ]
          },
          "execution_count": 143,
          "metadata": {},
          "output_type": "execute_result"
        }
      ],
      "source": [
        "# Cek duplikasi data\n",
        "hour[hour.duplicated()]"
      ]
    },
    {
      "cell_type": "markdown",
      "metadata": {
        "id": "Bsu07g2_Ps8C"
      },
      "source": [
        "Tidak ditemukan duplikasi data."
      ]
    },
    {
      "cell_type": "markdown",
      "metadata": {},
      "source": [
        "##### Kesimpulan"
      ]
    },
    {
      "cell_type": "markdown",
      "metadata": {},
      "source": [
        "Pada kedua data, yaitu data harian dan jam-an, disimpulkan bahwa:\n",
        "\n",
        "- Kedua data memiliki kolom yang sama, kecuali kolom 'hr' yang menunjukkan jam diambilnya data.\n",
        "- Tidak ditemukan *missing value* pada data.\n",
        "- Kolom 'dteday' perlu diubah menjadi tipe data datetime karena merupakan tanggal.\n",
        "- Kolom 'season', 'yr', 'mnth', 'holiday', 'weekday', 'workingday', 'weathersit', dan 'hr' merupakan data kategorikal (ada yang *binary* dan *non-binary*) dengan kodefikasi bilangan bulat (integer) sehingga perlu disesuaikan dengan maknanya.\n",
        "- Kolom 'instant' merupakan id dari baris data yang mana tidak dibutuhkan dalam analisis karena telah diwakilkan oleh *index*.\n",
        "- Data kolom numerik tidak memerlukan perlakuan apapun.\n",
        "- Nomor-nomor kode pada data kolom kategorik perlu diubah sesuai dengan maknanya."
      ]
    },
    {
      "cell_type": "markdown",
      "metadata": {
        "id": "EhN5R4hr8DC1"
      },
      "source": [
        "### Cleaning Data"
      ]
    },
    {
      "cell_type": "markdown",
      "metadata": {
        "id": "DE4Y95TvMDQM"
      },
      "source": [
        "#### Mengubah Tipe Data"
      ]
    },
    {
      "cell_type": "markdown",
      "metadata": {
        "id": "ivR09n1nMVat"
      },
      "source": [
        "##### Data **day**"
      ]
    },
    {
      "cell_type": "code",
      "execution_count": 144,
      "metadata": {
        "colab": {
          "base_uri": "https://localhost:8080/"
        },
        "id": "jVnYpprE9Evz",
        "outputId": "ce6a7022-32bc-437a-f404-6bad8ad2426b"
      },
      "outputs": [
        {
          "name": "stdout",
          "output_type": "stream",
          "text": [
            "<class 'pandas.core.frame.DataFrame'>\n",
            "RangeIndex: 731 entries, 0 to 730\n",
            "Data columns (total 16 columns):\n",
            " #   Column      Non-Null Count  Dtype         \n",
            "---  ------      --------------  -----         \n",
            " 0   instant     731 non-null    int64         \n",
            " 1   dteday      731 non-null    datetime64[ns]\n",
            " 2   season      731 non-null    int64         \n",
            " 3   yr          731 non-null    int64         \n",
            " 4   mnth        731 non-null    int64         \n",
            " 5   holiday     731 non-null    int64         \n",
            " 6   weekday     731 non-null    int64         \n",
            " 7   workingday  731 non-null    int64         \n",
            " 8   weathersit  731 non-null    int64         \n",
            " 9   temp        731 non-null    float64       \n",
            " 10  atemp       731 non-null    float64       \n",
            " 11  hum         731 non-null    float64       \n",
            " 12  windspeed   731 non-null    float64       \n",
            " 13  casual      731 non-null    int64         \n",
            " 14  registered  731 non-null    int64         \n",
            " 15  cnt         731 non-null    int64         \n",
            "dtypes: datetime64[ns](1), float64(4), int64(11)\n",
            "memory usage: 91.5 KB\n",
            "None\n"
          ]
        }
      ],
      "source": [
        "# Mengubah tipe data\n",
        "day['dteday'] = pd.to_datetime(day['dteday'])\n",
        "\n",
        "print(day.info())"
      ]
    },
    {
      "cell_type": "markdown",
      "metadata": {
        "id": "NjJksnGcNqMo"
      },
      "source": [
        "##### Data **hour**"
      ]
    },
    {
      "cell_type": "code",
      "execution_count": 145,
      "metadata": {
        "colab": {
          "base_uri": "https://localhost:8080/"
        },
        "id": "h3ewnSXrNqNJ",
        "outputId": "90c63e0b-11f2-4b18-8d67-35bf5940e373"
      },
      "outputs": [
        {
          "name": "stdout",
          "output_type": "stream",
          "text": [
            "<class 'pandas.core.frame.DataFrame'>\n",
            "RangeIndex: 17379 entries, 0 to 17378\n",
            "Data columns (total 17 columns):\n",
            " #   Column      Non-Null Count  Dtype         \n",
            "---  ------      --------------  -----         \n",
            " 0   instant     17379 non-null  int64         \n",
            " 1   dteday      17379 non-null  datetime64[ns]\n",
            " 2   season      17379 non-null  int64         \n",
            " 3   yr          17379 non-null  int64         \n",
            " 4   mnth        17379 non-null  int64         \n",
            " 5   hr          17379 non-null  int64         \n",
            " 6   holiday     17379 non-null  int64         \n",
            " 7   weekday     17379 non-null  int64         \n",
            " 8   workingday  17379 non-null  int64         \n",
            " 9   weathersit  17379 non-null  int64         \n",
            " 10  temp        17379 non-null  float64       \n",
            " 11  atemp       17379 non-null  float64       \n",
            " 12  hum         17379 non-null  float64       \n",
            " 13  windspeed   17379 non-null  float64       \n",
            " 14  casual      17379 non-null  int64         \n",
            " 15  registered  17379 non-null  int64         \n",
            " 16  cnt         17379 non-null  int64         \n",
            "dtypes: datetime64[ns](1), float64(4), int64(12)\n",
            "memory usage: 2.3 MB\n",
            "None\n"
          ]
        }
      ],
      "source": [
        "# Mengubah type data\n",
        "hour['dteday'] = pd.to_datetime(hour['dteday'])\n",
        "\n",
        "print(hour.info())"
      ]
    },
    {
      "cell_type": "markdown",
      "metadata": {
        "id": "PHQOY6SpOFXw"
      },
      "source": [
        "#### Menghapus Kolom 'instant'"
      ]
    },
    {
      "cell_type": "markdown",
      "metadata": {
        "id": "HWT4yIpsOSIg"
      },
      "source": [
        "##### Data **day**"
      ]
    },
    {
      "cell_type": "code",
      "execution_count": 146,
      "metadata": {
        "id": "WP2eU0iuORrS"
      },
      "outputs": [],
      "source": [
        "# Melakukan drop kolom 'instant'\n",
        "day = day.drop('instant', axis = 1)"
      ]
    },
    {
      "cell_type": "markdown",
      "metadata": {
        "id": "uvrGHqjbQzx8"
      },
      "source": [
        "##### Data **hour**"
      ]
    },
    {
      "cell_type": "code",
      "execution_count": 147,
      "metadata": {
        "id": "Uye7LntHQzx9"
      },
      "outputs": [],
      "source": [
        "# Melakukan drop kolom 'instant'\n",
        "hour = hour.drop('instant', axis = 1)"
      ]
    },
    {
      "cell_type": "markdown",
      "metadata": {},
      "source": [
        "#### Mengubah Kode Kolom Kategorik Menjadi Maknanya"
      ]
    },
    {
      "cell_type": "markdown",
      "metadata": {},
      "source": [
        "Pertama-tama akan dibuat *dictionary* yang berisi nomor kode untuk masing-masing kolom dan maknanya."
      ]
    },
    {
      "cell_type": "code",
      "execution_count": 148,
      "metadata": {},
      "outputs": [],
      "source": [
        "season_code = {1: 'Musim dingin',\n",
        "               2: 'Musim semi',\n",
        "               3: 'Musim panas',\n",
        "               4: 'Musim gugur'}\n",
        "yr_code = {0: '2011',\n",
        "           1: '2012'}\n",
        "mnth_code = {1: 'Januari',\n",
        "             2: 'Februari',\n",
        "             3: 'Maret',\n",
        "             4: 'April',\n",
        "             5: 'Mei',\n",
        "             6: 'Juni',\n",
        "             7: 'Juli',\n",
        "             8: 'Agustus',\n",
        "             9: 'September',\n",
        "             10: 'Oktober',\n",
        "             11: 'November',\n",
        "             12: 'Desember'}\n",
        "holiday_code = {0: 'Bukan hari libur',\n",
        "                1: 'Hari libur'}\n",
        "weekday_code = {0: 'Minggu',\n",
        "                1: 'Senin',\n",
        "                2: 'Selasa',\n",
        "                3: 'Rabu',\n",
        "                4: 'Kamis',\n",
        "                5: 'Jumat',\n",
        "                6: 'Sabtu'}\n",
        "workingday_code = {0: 'Bukan hari kerja',\n",
        "                   1: 'Hari kerja'}\n",
        "weathersit_code = {1: 'Clear, Few clouds, Partly cloudy',\n",
        "                   2: 'Mist + Cloudy, Mist + Broken clouds, Mist + Few clouds, Mist',\n",
        "                   3: 'Light Snow, Light Rain + Thunderstorm + Scattered clouds, Light Rain + Scattered clouds',\n",
        "                   4: 'Heavy Rain + Ice Pallets + Thunderstorm + Mist, Snow + Fog'}"
      ]
    },
    {
      "cell_type": "markdown",
      "metadata": {},
      "source": [
        "Selanjutnya, data kolom kategorik akan disesuaikan."
      ]
    },
    {
      "cell_type": "markdown",
      "metadata": {},
      "source": [
        "##### Data **day**"
      ]
    },
    {
      "cell_type": "code",
      "execution_count": 149,
      "metadata": {},
      "outputs": [
        {
          "data": {
            "text/html": [
              "<div>\n",
              "<style scoped>\n",
              "    .dataframe tbody tr th:only-of-type {\n",
              "        vertical-align: middle;\n",
              "    }\n",
              "\n",
              "    .dataframe tbody tr th {\n",
              "        vertical-align: top;\n",
              "    }\n",
              "\n",
              "    .dataframe thead th {\n",
              "        text-align: right;\n",
              "    }\n",
              "</style>\n",
              "<table border=\"1\" class=\"dataframe\">\n",
              "  <thead>\n",
              "    <tr style=\"text-align: right;\">\n",
              "      <th></th>\n",
              "      <th>dteday</th>\n",
              "      <th>season</th>\n",
              "      <th>yr</th>\n",
              "      <th>mnth</th>\n",
              "      <th>holiday</th>\n",
              "      <th>weekday</th>\n",
              "      <th>workingday</th>\n",
              "      <th>weathersit</th>\n",
              "      <th>temp</th>\n",
              "      <th>atemp</th>\n",
              "      <th>hum</th>\n",
              "      <th>windspeed</th>\n",
              "      <th>casual</th>\n",
              "      <th>registered</th>\n",
              "      <th>cnt</th>\n",
              "    </tr>\n",
              "  </thead>\n",
              "  <tbody>\n",
              "    <tr>\n",
              "      <th>0</th>\n",
              "      <td>2011-01-01</td>\n",
              "      <td>Musim dingin</td>\n",
              "      <td>2011</td>\n",
              "      <td>Januari</td>\n",
              "      <td>Bukan hari libur</td>\n",
              "      <td>Sabtu</td>\n",
              "      <td>Bukan hari kerja</td>\n",
              "      <td>Mist + Cloudy, Mist + Broken clouds, Mist + Fe...</td>\n",
              "      <td>0.344167</td>\n",
              "      <td>0.363625</td>\n",
              "      <td>0.805833</td>\n",
              "      <td>0.160446</td>\n",
              "      <td>331</td>\n",
              "      <td>654</td>\n",
              "      <td>985</td>\n",
              "    </tr>\n",
              "    <tr>\n",
              "      <th>1</th>\n",
              "      <td>2011-01-02</td>\n",
              "      <td>Musim dingin</td>\n",
              "      <td>2011</td>\n",
              "      <td>Januari</td>\n",
              "      <td>Bukan hari libur</td>\n",
              "      <td>Minggu</td>\n",
              "      <td>Bukan hari kerja</td>\n",
              "      <td>Mist + Cloudy, Mist + Broken clouds, Mist + Fe...</td>\n",
              "      <td>0.363478</td>\n",
              "      <td>0.353739</td>\n",
              "      <td>0.696087</td>\n",
              "      <td>0.248539</td>\n",
              "      <td>131</td>\n",
              "      <td>670</td>\n",
              "      <td>801</td>\n",
              "    </tr>\n",
              "    <tr>\n",
              "      <th>2</th>\n",
              "      <td>2011-01-03</td>\n",
              "      <td>Musim dingin</td>\n",
              "      <td>2011</td>\n",
              "      <td>Januari</td>\n",
              "      <td>Bukan hari libur</td>\n",
              "      <td>Senin</td>\n",
              "      <td>Hari kerja</td>\n",
              "      <td>Clear, Few clouds, Partly cloudy</td>\n",
              "      <td>0.196364</td>\n",
              "      <td>0.189405</td>\n",
              "      <td>0.437273</td>\n",
              "      <td>0.248309</td>\n",
              "      <td>120</td>\n",
              "      <td>1229</td>\n",
              "      <td>1349</td>\n",
              "    </tr>\n",
              "    <tr>\n",
              "      <th>3</th>\n",
              "      <td>2011-01-04</td>\n",
              "      <td>Musim dingin</td>\n",
              "      <td>2011</td>\n",
              "      <td>Januari</td>\n",
              "      <td>Bukan hari libur</td>\n",
              "      <td>Selasa</td>\n",
              "      <td>Hari kerja</td>\n",
              "      <td>Clear, Few clouds, Partly cloudy</td>\n",
              "      <td>0.200000</td>\n",
              "      <td>0.212122</td>\n",
              "      <td>0.590435</td>\n",
              "      <td>0.160296</td>\n",
              "      <td>108</td>\n",
              "      <td>1454</td>\n",
              "      <td>1562</td>\n",
              "    </tr>\n",
              "    <tr>\n",
              "      <th>4</th>\n",
              "      <td>2011-01-05</td>\n",
              "      <td>Musim dingin</td>\n",
              "      <td>2011</td>\n",
              "      <td>Januari</td>\n",
              "      <td>Bukan hari libur</td>\n",
              "      <td>Rabu</td>\n",
              "      <td>Hari kerja</td>\n",
              "      <td>Clear, Few clouds, Partly cloudy</td>\n",
              "      <td>0.226957</td>\n",
              "      <td>0.229270</td>\n",
              "      <td>0.436957</td>\n",
              "      <td>0.186900</td>\n",
              "      <td>82</td>\n",
              "      <td>1518</td>\n",
              "      <td>1600</td>\n",
              "    </tr>\n",
              "  </tbody>\n",
              "</table>\n",
              "</div>"
            ],
            "text/plain": [
              "      dteday        season    yr     mnth           holiday weekday  \\\n",
              "0 2011-01-01  Musim dingin  2011  Januari  Bukan hari libur   Sabtu   \n",
              "1 2011-01-02  Musim dingin  2011  Januari  Bukan hari libur  Minggu   \n",
              "2 2011-01-03  Musim dingin  2011  Januari  Bukan hari libur   Senin   \n",
              "3 2011-01-04  Musim dingin  2011  Januari  Bukan hari libur  Selasa   \n",
              "4 2011-01-05  Musim dingin  2011  Januari  Bukan hari libur    Rabu   \n",
              "\n",
              "         workingday                                         weathersit  \\\n",
              "0  Bukan hari kerja  Mist + Cloudy, Mist + Broken clouds, Mist + Fe...   \n",
              "1  Bukan hari kerja  Mist + Cloudy, Mist + Broken clouds, Mist + Fe...   \n",
              "2        Hari kerja                   Clear, Few clouds, Partly cloudy   \n",
              "3        Hari kerja                   Clear, Few clouds, Partly cloudy   \n",
              "4        Hari kerja                   Clear, Few clouds, Partly cloudy   \n",
              "\n",
              "       temp     atemp       hum  windspeed  casual  registered   cnt  \n",
              "0  0.344167  0.363625  0.805833   0.160446     331         654   985  \n",
              "1  0.363478  0.353739  0.696087   0.248539     131         670   801  \n",
              "2  0.196364  0.189405  0.437273   0.248309     120        1229  1349  \n",
              "3  0.200000  0.212122  0.590435   0.160296     108        1454  1562  \n",
              "4  0.226957  0.229270  0.436957   0.186900      82        1518  1600  "
            ]
          },
          "execution_count": 149,
          "metadata": {},
          "output_type": "execute_result"
        }
      ],
      "source": [
        "# Data harian\n",
        "day = day.replace({'season': season_code,\n",
        "                   'yr': yr_code,\n",
        "                   'mnth': mnth_code,\n",
        "                   'holiday': holiday_code,\n",
        "                   'weekday': weekday_code,\n",
        "                   'workingday': workingday_code,\n",
        "                   'weathersit': weathersit_code})\n",
        "day.head()"
      ]
    },
    {
      "cell_type": "markdown",
      "metadata": {},
      "source": [
        "##### Data **hour**"
      ]
    },
    {
      "cell_type": "code",
      "execution_count": 150,
      "metadata": {},
      "outputs": [
        {
          "data": {
            "text/html": [
              "<div>\n",
              "<style scoped>\n",
              "    .dataframe tbody tr th:only-of-type {\n",
              "        vertical-align: middle;\n",
              "    }\n",
              "\n",
              "    .dataframe tbody tr th {\n",
              "        vertical-align: top;\n",
              "    }\n",
              "\n",
              "    .dataframe thead th {\n",
              "        text-align: right;\n",
              "    }\n",
              "</style>\n",
              "<table border=\"1\" class=\"dataframe\">\n",
              "  <thead>\n",
              "    <tr style=\"text-align: right;\">\n",
              "      <th></th>\n",
              "      <th>dteday</th>\n",
              "      <th>season</th>\n",
              "      <th>yr</th>\n",
              "      <th>mnth</th>\n",
              "      <th>hr</th>\n",
              "      <th>holiday</th>\n",
              "      <th>weekday</th>\n",
              "      <th>workingday</th>\n",
              "      <th>weathersit</th>\n",
              "      <th>temp</th>\n",
              "      <th>atemp</th>\n",
              "      <th>hum</th>\n",
              "      <th>windspeed</th>\n",
              "      <th>casual</th>\n",
              "      <th>registered</th>\n",
              "      <th>cnt</th>\n",
              "    </tr>\n",
              "  </thead>\n",
              "  <tbody>\n",
              "    <tr>\n",
              "      <th>0</th>\n",
              "      <td>2011-01-01</td>\n",
              "      <td>Musim dingin</td>\n",
              "      <td>2011</td>\n",
              "      <td>Januari</td>\n",
              "      <td>0</td>\n",
              "      <td>Bukan hari libur</td>\n",
              "      <td>Sabtu</td>\n",
              "      <td>Bukan hari kerja</td>\n",
              "      <td>Clear, Few clouds, Partly cloudy</td>\n",
              "      <td>0.24</td>\n",
              "      <td>0.2879</td>\n",
              "      <td>0.81</td>\n",
              "      <td>0.0</td>\n",
              "      <td>3</td>\n",
              "      <td>13</td>\n",
              "      <td>16</td>\n",
              "    </tr>\n",
              "    <tr>\n",
              "      <th>1</th>\n",
              "      <td>2011-01-01</td>\n",
              "      <td>Musim dingin</td>\n",
              "      <td>2011</td>\n",
              "      <td>Januari</td>\n",
              "      <td>1</td>\n",
              "      <td>Bukan hari libur</td>\n",
              "      <td>Sabtu</td>\n",
              "      <td>Bukan hari kerja</td>\n",
              "      <td>Clear, Few clouds, Partly cloudy</td>\n",
              "      <td>0.22</td>\n",
              "      <td>0.2727</td>\n",
              "      <td>0.80</td>\n",
              "      <td>0.0</td>\n",
              "      <td>8</td>\n",
              "      <td>32</td>\n",
              "      <td>40</td>\n",
              "    </tr>\n",
              "    <tr>\n",
              "      <th>2</th>\n",
              "      <td>2011-01-01</td>\n",
              "      <td>Musim dingin</td>\n",
              "      <td>2011</td>\n",
              "      <td>Januari</td>\n",
              "      <td>2</td>\n",
              "      <td>Bukan hari libur</td>\n",
              "      <td>Sabtu</td>\n",
              "      <td>Bukan hari kerja</td>\n",
              "      <td>Clear, Few clouds, Partly cloudy</td>\n",
              "      <td>0.22</td>\n",
              "      <td>0.2727</td>\n",
              "      <td>0.80</td>\n",
              "      <td>0.0</td>\n",
              "      <td>5</td>\n",
              "      <td>27</td>\n",
              "      <td>32</td>\n",
              "    </tr>\n",
              "    <tr>\n",
              "      <th>3</th>\n",
              "      <td>2011-01-01</td>\n",
              "      <td>Musim dingin</td>\n",
              "      <td>2011</td>\n",
              "      <td>Januari</td>\n",
              "      <td>3</td>\n",
              "      <td>Bukan hari libur</td>\n",
              "      <td>Sabtu</td>\n",
              "      <td>Bukan hari kerja</td>\n",
              "      <td>Clear, Few clouds, Partly cloudy</td>\n",
              "      <td>0.24</td>\n",
              "      <td>0.2879</td>\n",
              "      <td>0.75</td>\n",
              "      <td>0.0</td>\n",
              "      <td>3</td>\n",
              "      <td>10</td>\n",
              "      <td>13</td>\n",
              "    </tr>\n",
              "    <tr>\n",
              "      <th>4</th>\n",
              "      <td>2011-01-01</td>\n",
              "      <td>Musim dingin</td>\n",
              "      <td>2011</td>\n",
              "      <td>Januari</td>\n",
              "      <td>4</td>\n",
              "      <td>Bukan hari libur</td>\n",
              "      <td>Sabtu</td>\n",
              "      <td>Bukan hari kerja</td>\n",
              "      <td>Clear, Few clouds, Partly cloudy</td>\n",
              "      <td>0.24</td>\n",
              "      <td>0.2879</td>\n",
              "      <td>0.75</td>\n",
              "      <td>0.0</td>\n",
              "      <td>0</td>\n",
              "      <td>1</td>\n",
              "      <td>1</td>\n",
              "    </tr>\n",
              "  </tbody>\n",
              "</table>\n",
              "</div>"
            ],
            "text/plain": [
              "      dteday        season    yr     mnth  hr           holiday weekday  \\\n",
              "0 2011-01-01  Musim dingin  2011  Januari   0  Bukan hari libur   Sabtu   \n",
              "1 2011-01-01  Musim dingin  2011  Januari   1  Bukan hari libur   Sabtu   \n",
              "2 2011-01-01  Musim dingin  2011  Januari   2  Bukan hari libur   Sabtu   \n",
              "3 2011-01-01  Musim dingin  2011  Januari   3  Bukan hari libur   Sabtu   \n",
              "4 2011-01-01  Musim dingin  2011  Januari   4  Bukan hari libur   Sabtu   \n",
              "\n",
              "         workingday                        weathersit  temp   atemp   hum  \\\n",
              "0  Bukan hari kerja  Clear, Few clouds, Partly cloudy  0.24  0.2879  0.81   \n",
              "1  Bukan hari kerja  Clear, Few clouds, Partly cloudy  0.22  0.2727  0.80   \n",
              "2  Bukan hari kerja  Clear, Few clouds, Partly cloudy  0.22  0.2727  0.80   \n",
              "3  Bukan hari kerja  Clear, Few clouds, Partly cloudy  0.24  0.2879  0.75   \n",
              "4  Bukan hari kerja  Clear, Few clouds, Partly cloudy  0.24  0.2879  0.75   \n",
              "\n",
              "   windspeed  casual  registered  cnt  \n",
              "0        0.0       3          13   16  \n",
              "1        0.0       8          32   40  \n",
              "2        0.0       5          27   32  \n",
              "3        0.0       3          10   13  \n",
              "4        0.0       0           1    1  "
            ]
          },
          "execution_count": 150,
          "metadata": {},
          "output_type": "execute_result"
        }
      ],
      "source": [
        "# Data jam-an\n",
        "hour = hour.replace({'season': season_code,\n",
        "                   'yr': yr_code,\n",
        "                   'mnth': mnth_code,\n",
        "                   'holiday': holiday_code,\n",
        "                   'weekday': weekday_code,\n",
        "                   'workingday': workingday_code,\n",
        "                   'weathersit': weathersit_code})\n",
        "hour.head()"
      ]
    },
    {
      "cell_type": "markdown",
      "metadata": {
        "id": "gp-Y6wU38DC1"
      },
      "source": [
        "## Exploratory Data Analysis (EDA)"
      ]
    },
    {
      "cell_type": "markdown",
      "metadata": {
        "id": "MW7WF2kr8DC1"
      },
      "source": [
        "### Explore Univariat"
      ]
    },
    {
      "cell_type": "code",
      "execution_count": 151,
      "metadata": {
        "colab": {
          "base_uri": "https://localhost:8080/"
        },
        "id": "e9CQCZjk8DC2",
        "outputId": "45ed8851-f321-44b0-dcae-2667c83bbe18"
      },
      "outputs": [
        {
          "name": "stdout",
          "output_type": "stream",
          "text": [
            "<class 'pandas.core.frame.DataFrame'>\n",
            "RangeIndex: 731 entries, 0 to 730\n",
            "Data columns (total 15 columns):\n",
            " #   Column      Non-Null Count  Dtype         \n",
            "---  ------      --------------  -----         \n",
            " 0   dteday      731 non-null    datetime64[ns]\n",
            " 1   season      731 non-null    object        \n",
            " 2   yr          731 non-null    object        \n",
            " 3   mnth        731 non-null    object        \n",
            " 4   holiday     731 non-null    object        \n",
            " 5   weekday     731 non-null    object        \n",
            " 6   workingday  731 non-null    object        \n",
            " 7   weathersit  731 non-null    object        \n",
            " 8   temp        731 non-null    float64       \n",
            " 9   atemp       731 non-null    float64       \n",
            " 10  hum         731 non-null    float64       \n",
            " 11  windspeed   731 non-null    float64       \n",
            " 12  casual      731 non-null    int64         \n",
            " 13  registered  731 non-null    int64         \n",
            " 14  cnt         731 non-null    int64         \n",
            "dtypes: datetime64[ns](1), float64(4), int64(3), object(7)\n",
            "memory usage: 85.8+ KB\n"
          ]
        }
      ],
      "source": [
        "day.info()"
      ]
    },
    {
      "cell_type": "markdown",
      "metadata": {
        "id": "Q6XplNC7l94t"
      },
      "source": [
        "#### Data Numerik"
      ]
    },
    {
      "cell_type": "markdown",
      "metadata": {
        "id": "t9s0uDIPkAsi"
      },
      "source": [
        "##### Jumlah Persewaan ('cnt')"
      ]
    },
    {
      "cell_type": "code",
      "execution_count": 152,
      "metadata": {
        "colab": {
          "base_uri": "https://localhost:8080/",
          "height": 467
        },
        "id": "mvRNb0xYjIEe",
        "outputId": "474c84a6-bbcd-49ab-88e6-fcc74f1a0b3e"
      },
      "outputs": [
        {
          "data": {
            "text/plain": [
              "<Axes: xlabel='cnt', ylabel='Count'>"
            ]
          },
          "execution_count": 152,
          "metadata": {},
          "output_type": "execute_result"
        },
        {
          "data": {
            "image/png": "[encoded data removed]",
            "text/plain": [
              "<Figure size 640x480 with 1 Axes>"
            ]
          },
          "metadata": {},
          "output_type": "display_data"
        }
      ],
      "source": [
        "sns.histplot(day['cnt'])"
      ]
    },
    {
      "cell_type": "code",
      "execution_count": 153,
      "metadata": {
        "colab": {
          "base_uri": "https://localhost:8080/",
          "height": 467
        },
        "id": "eRPYDBZaj33R",
        "outputId": "e9e70c40-74f7-4a4e-fcc3-562a2c389ea2"
      },
      "outputs": [
        {
          "data": {
            "text/plain": [
              "<Axes: xlabel='cnt', ylabel='Count'>"
            ]
          },
          "execution_count": 153,
          "metadata": {},
          "output_type": "execute_result"
        },
        {
          "data": {
            "image/png": "[encoded data removed]",
            "text/plain": [
              "<Figure size 640x480 with 1 Axes>"
            ]
          },
          "metadata": {},
          "output_type": "display_data"
        }
      ],
      "source": [
        "sns.histplot(hour['cnt'])"
      ]
    },
    {
      "cell_type": "markdown",
      "metadata": {
        "id": "ZC6zrPCEkMcr"
      },
      "source": [
        "Dapat diamati bahwa pada data harian, jumlah persewaan cenderung terpusat pada titik tengah data dan relatif simetris untuk kedua sisinya. Sedangkan pada data jam-an, terlihat bahwa data terpusat pada nilai 0 dan sangat jelas data skew ke kanan."
      ]
    },
    {
      "cell_type": "markdown",
      "metadata": {
        "id": "qqIpGARolzyi"
      },
      "source": [
        "##### Suhu Lingkungan ('temp')"
      ]
    },
    {
      "cell_type": "code",
      "execution_count": 154,
      "metadata": {
        "colab": {
          "base_uri": "https://localhost:8080/",
          "height": 467
        },
        "id": "5xlhM0o6maGB",
        "outputId": "0c35b605-4674-41a1-8103-2bab101d7f2d"
      },
      "outputs": [
        {
          "data": {
            "text/plain": [
              "<Axes: xlabel='temp', ylabel='Count'>"
            ]
          },
          "execution_count": 154,
          "metadata": {},
          "output_type": "execute_result"
        },
        {
          "data": {
            "image/png": "[encoded data removed]",
            "text/plain": [
              "<Figure size 640x480 with 1 Axes>"
            ]
          },
          "metadata": {},
          "output_type": "display_data"
        }
      ],
      "source": [
        "sns.histplot(day['temp'])"
      ]
    },
    {
      "cell_type": "code",
      "execution_count": 155,
      "metadata": {
        "colab": {
          "base_uri": "https://localhost:8080/",
          "height": 467
        },
        "id": "nhDTHcb0mfCv",
        "outputId": "9ff8c2c4-a989-4d42-9f9b-f0458d4cf19b"
      },
      "outputs": [
        {
          "data": {
            "text/plain": [
              "<Axes: xlabel='temp', ylabel='Count'>"
            ]
          },
          "execution_count": 155,
          "metadata": {},
          "output_type": "execute_result"
        },
        {
          "data": {
            "image/png": "[encoded data removed]",
            "text/plain": [
              "<Figure size 640x480 with 1 Axes>"
            ]
          },
          "metadata": {},
          "output_type": "display_data"
        }
      ],
      "source": [
        "sns.histplot(hour['temp'])"
      ]
    },
    {
      "cell_type": "markdown",
      "metadata": {
        "id": "tLHRYB8Cmoo8"
      },
      "source": [
        "Dari plot di atas dapat diamati bahwa suhu lingkungan terdistribusi secara cukup merata dengan titik pusat pada 2 tempat, yaitu sekitar 0.3 dan 0.7."
      ]
    },
    {
      "cell_type": "markdown",
      "metadata": {
        "id": "zoz7rU_wmM64"
      },
      "source": [
        "##### Suhu yang Dirasakan ('atemp')"
      ]
    },
    {
      "cell_type": "code",
      "execution_count": 156,
      "metadata": {
        "colab": {
          "base_uri": "https://localhost:8080/",
          "height": 467
        },
        "id": "C8DKQgYAoZ-5",
        "outputId": "02d6620e-9c12-4be8-aa12-5961725aa993"
      },
      "outputs": [
        {
          "data": {
            "text/plain": [
              "<Axes: xlabel='atemp', ylabel='Count'>"
            ]
          },
          "execution_count": 156,
          "metadata": {},
          "output_type": "execute_result"
        },
        {
          "data": {
            "image/png": "[encoded data removed]",
            "text/plain": [
              "<Figure size 640x480 with 1 Axes>"
            ]
          },
          "metadata": {},
          "output_type": "display_data"
        }
      ],
      "source": [
        "sns.histplot(day['atemp'])"
      ]
    },
    {
      "cell_type": "code",
      "execution_count": 157,
      "metadata": {
        "colab": {
          "base_uri": "https://localhost:8080/",
          "height": 467
        },
        "id": "b5nnmJLsoZ_Y",
        "outputId": "736fd7c3-f52f-46b1-c932-cbdc7dde8014"
      },
      "outputs": [
        {
          "data": {
            "text/plain": [
              "<Axes: xlabel='atemp', ylabel='Count'>"
            ]
          },
          "execution_count": 157,
          "metadata": {},
          "output_type": "execute_result"
        },
        {
          "data": {
            "image/png": "[encoded data removed]",
            "text/plain": [
              "<Figure size 640x480 with 1 Axes>"
            ]
          },
          "metadata": {},
          "output_type": "display_data"
        }
      ],
      "source": [
        "sns.histplot(hour['atemp'])"
      ]
    },
    {
      "cell_type": "markdown",
      "metadata": {
        "id": "lWlNEM56oZ_Z"
      },
      "source": [
        "Dari plot di atas dapat diamati bahwa suhu yang dirasakan terdistribusi secara cukup merata dengan titik pusat pada 2 tempat, yaitu sekitar 0.3 dan 0.7. Namun berbeda dengan suhu lingkungan, suhu yang dirasakan terlihat lebih banyak pada sekitar 0.7."
      ]
    },
    {
      "cell_type": "markdown",
      "metadata": {
        "id": "aO4SXrMsmQIC"
      },
      "source": [
        "##### Kelembaban ('hum')"
      ]
    },
    {
      "cell_type": "code",
      "execution_count": 158,
      "metadata": {
        "colab": {
          "base_uri": "https://localhost:8080/",
          "height": 467
        },
        "id": "bk-ejQjbphXR",
        "outputId": "b4414273-ef7c-44d3-ea38-fe0019105f11"
      },
      "outputs": [
        {
          "data": {
            "text/plain": [
              "<Axes: xlabel='hum', ylabel='Count'>"
            ]
          },
          "execution_count": 158,
          "metadata": {},
          "output_type": "execute_result"
        },
        {
          "data": {
            "image/png": "[encoded data removed]",
            "text/plain": [
              "<Figure size 640x480 with 1 Axes>"
            ]
          },
          "metadata": {},
          "output_type": "display_data"
        }
      ],
      "source": [
        "sns.histplot(day['hum'])"
      ]
    },
    {
      "cell_type": "code",
      "execution_count": 159,
      "metadata": {
        "colab": {
          "base_uri": "https://localhost:8080/",
          "height": 472
        },
        "id": "N1VPB-W9phYU",
        "outputId": "c9bd9d50-1963-428b-a336-17972cd24364"
      },
      "outputs": [
        {
          "data": {
            "text/plain": [
              "<Axes: xlabel='hum', ylabel='Count'>"
            ]
          },
          "execution_count": 159,
          "metadata": {},
          "output_type": "execute_result"
        },
        {
          "data": {
            "image/png": "[encoded data removed]",
            "text/plain": [
              "<Figure size 640x480 with 1 Axes>"
            ]
          },
          "metadata": {},
          "output_type": "display_data"
        }
      ],
      "source": [
        "sns.histplot(hour['hum'])"
      ]
    },
    {
      "cell_type": "markdown",
      "metadata": {
        "id": "o8aKqG5TphYV"
      },
      "source": [
        "Dari plot di atas dapat diamati bahwa kelembaban terdistribusi secara cukup merata terutama pada data harian dengan titik pusat pada sekitar 0.6. Pada data jam-an, terdapat jumlah data yang paling banyak pada sekitar 0.9. Terdapat indikasi *outlier* yaitu pada sekitar 0."
      ]
    },
    {
      "cell_type": "code",
      "execution_count": 160,
      "metadata": {
        "colab": {
          "base_uri": "https://localhost:8080/",
          "height": 429
        },
        "id": "wo6tF05Zq3SI",
        "outputId": "ff432360-46f2-414a-f94a-012d8d7f5fa3"
      },
      "outputs": [
        {
          "data": {
            "text/plain": [
              "<Axes: ylabel='hum'>"
            ]
          },
          "execution_count": 160,
          "metadata": {},
          "output_type": "execute_result"
        },
        {
          "data": {
            "image/png": "[encoded data removed]",
            "text/plain": [
              "<Figure size 640x480 with 1 Axes>"
            ]
          },
          "metadata": {},
          "output_type": "display_data"
        }
      ],
      "source": [
        "sns.boxplot(day['hum'])"
      ]
    },
    {
      "cell_type": "code",
      "execution_count": 161,
      "metadata": {
        "colab": {
          "base_uri": "https://localhost:8080/",
          "height": 429
        },
        "id": "dfQ8H6Sus3KK",
        "outputId": "8c92cc9a-6e1a-4315-a92f-9b8b1d173b3a"
      },
      "outputs": [
        {
          "data": {
            "text/plain": [
              "<Axes: ylabel='hum'>"
            ]
          },
          "execution_count": 161,
          "metadata": {},
          "output_type": "execute_result"
        },
        {
          "data": {
            "image/png": "[encoded data removed]",
            "text/plain": [
              "<Figure size 640x480 with 1 Axes>"
            ]
          },
          "metadata": {},
          "output_type": "display_data"
        }
      ],
      "source": [
        "sns.boxplot(hour['hum'])"
      ]
    },
    {
      "cell_type": "markdown",
      "metadata": {
        "id": "jw4PcZPDtO4l"
      },
      "source": [
        "Dugaan adanya data *outlier* ternyata didukung oleh boxplot yang menunjukkan adanya *outlier* pada 0. Pada data harian, terdapat data *outlier* lain yaitu pada 0.2, tetapi pada data jam-an tidak dianggap sebagai *outlier*."
      ]
    },
    {
      "cell_type": "markdown",
      "metadata": {
        "id": "NOBaKy3pmT40"
      },
      "source": [
        "##### Kecepatan Angin ('windspeed')"
      ]
    },
    {
      "cell_type": "code",
      "execution_count": 162,
      "metadata": {
        "colab": {
          "base_uri": "https://localhost:8080/",
          "height": 467
        },
        "id": "GmpUq6FpvH0U",
        "outputId": "7be5ceea-eff5-4e2a-838f-d0f47c566d44"
      },
      "outputs": [
        {
          "data": {
            "text/plain": [
              "<Axes: xlabel='windspeed', ylabel='Count'>"
            ]
          },
          "execution_count": 162,
          "metadata": {},
          "output_type": "execute_result"
        },
        {
          "data": {
            "image/png": "[encoded data removed]",
            "text/plain": [
              "<Figure size 640x480 with 1 Axes>"
            ]
          },
          "metadata": {},
          "output_type": "display_data"
        }
      ],
      "source": [
        "sns.histplot(day['windspeed'])"
      ]
    },
    {
      "cell_type": "code",
      "execution_count": 163,
      "metadata": {
        "colab": {
          "base_uri": "https://localhost:8080/",
          "height": 467
        },
        "id": "Kben75rJvH0V",
        "outputId": "d3c95775-9a34-4603-b2fb-8400a476c302"
      },
      "outputs": [
        {
          "data": {
            "text/plain": [
              "<Axes: xlabel='windspeed', ylabel='Count'>"
            ]
          },
          "execution_count": 163,
          "metadata": {},
          "output_type": "execute_result"
        },
        {
          "data": {
            "image/png": "[encoded data removed]",
            "text/plain": [
              "<Figure size 640x480 with 1 Axes>"
            ]
          },
          "metadata": {},
          "output_type": "display_data"
        }
      ],
      "source": [
        "sns.histplot(hour['windspeed'], bins = 30)"
      ]
    },
    {
      "cell_type": "markdown",
      "metadata": {
        "id": "qPEy8bMBvH0W"
      },
      "source": [
        "Dari plot di atas dapat diamati bahwa kecepatan angin terdistribusi secara cukup merata pada data harian, tetapi terdapat indikasi data *outlier* pada 0.5. Data jam-an terlihat tersegmentasi dengan *range* data yang tidak memiliki nilai. Data juga terlihat skew ke kanan dan mengindikasikan terdapat outlier."
      ]
    },
    {
      "cell_type": "code",
      "execution_count": 164,
      "metadata": {
        "colab": {
          "base_uri": "https://localhost:8080/",
          "height": 431
        },
        "id": "06FRMey9xQva",
        "outputId": "9f0b6f55-26f9-4e06-d979-dc5dfd8e8eff"
      },
      "outputs": [
        {
          "data": {
            "text/plain": [
              "<Axes: ylabel='windspeed'>"
            ]
          },
          "execution_count": 164,
          "metadata": {},
          "output_type": "execute_result"
        },
        {
          "data": {
            "image/png": "[encoded data removed]",
            "text/plain": [
              "<Figure size 640x480 with 1 Axes>"
            ]
          },
          "metadata": {},
          "output_type": "display_data"
        }
      ],
      "source": [
        "sns.boxplot(day['windspeed'])"
      ]
    },
    {
      "cell_type": "code",
      "execution_count": 165,
      "metadata": {
        "colab": {
          "base_uri": "https://localhost:8080/",
          "height": 429
        },
        "id": "0G2M0PlCxU5Y",
        "outputId": "d5748959-6ff6-47e6-cda3-15c9bc515503"
      },
      "outputs": [
        {
          "data": {
            "text/plain": [
              "<Axes: ylabel='windspeed'>"
            ]
          },
          "execution_count": 165,
          "metadata": {},
          "output_type": "execute_result"
        },
        {
          "data": {
            "image/png": "[encoded data removed]",
            "text/plain": [
              "<Figure size 640x480 with 1 Axes>"
            ]
          },
          "metadata": {},
          "output_type": "display_data"
        }
      ],
      "source": [
        "sns.boxplot(hour['windspeed'])"
      ]
    },
    {
      "cell_type": "markdown",
      "metadata": {
        "id": "meV44pZ1xhej"
      },
      "source": [
        "Dugaan adanya data *outlier* ternyata didukung oleh boxplot yang menunjukkan adanya *outlier* pada 0.4 ke atas."
      ]
    },
    {
      "cell_type": "markdown",
      "metadata": {
        "id": "h3o9M-h2lT3i"
      },
      "source": [
        "#### Data Kategorik"
      ]
    },
    {
      "cell_type": "markdown",
      "metadata": {
        "id": "UNuYijwfzUvm"
      },
      "source": [
        "Data kategorik pada data kebanyakan merupakan bagian dari tanggal sehingga tidak bervariasi."
      ]
    },
    {
      "cell_type": "markdown",
      "metadata": {
        "id": "tHLXLOBqyCmX"
      },
      "source": [
        "##### Cuaca ('weathersit')"
      ]
    },
    {
      "cell_type": "code",
      "execution_count": 166,
      "metadata": {
        "colab": {
          "base_uri": "https://localhost:8080/",
          "height": 467
        },
        "id": "LgHe8SUeloPM",
        "outputId": "71012761-c26e-4b0a-adeb-551dd7b8c657"
      },
      "outputs": [
        {
          "data": {
            "text/plain": [
              "<Axes: xlabel='weathersit', ylabel='count'>"
            ]
          },
          "execution_count": 166,
          "metadata": {},
          "output_type": "execute_result"
        },
        {
          "data": {
            "image/png": "[encoded data removed]",
            "text/plain": [
              "<Figure size 640x480 with 1 Axes>"
            ]
          },
          "metadata": {},
          "output_type": "display_data"
        }
      ],
      "source": [
        "sns.countplot(data = day, x = 'weathersit')"
      ]
    },
    {
      "cell_type": "code",
      "execution_count": 167,
      "metadata": {
        "colab": {
          "base_uri": "https://localhost:8080/",
          "height": 467
        },
        "id": "YErJLuRJ1Vsk",
        "outputId": "87a767f7-e6fc-4ba5-ccc4-4ebab1945735"
      },
      "outputs": [
        {
          "data": {
            "text/plain": [
              "<Axes: xlabel='weathersit', ylabel='count'>"
            ]
          },
          "execution_count": 167,
          "metadata": {},
          "output_type": "execute_result"
        },
        {
          "data": {
            "image/png": "[encoded data removed]",
            "text/plain": [
              "<Figure size 640x480 with 1 Axes>"
            ]
          },
          "metadata": {},
          "output_type": "display_data"
        }
      ],
      "source": [
        "sns.countplot(data = hour, x = 'weathersit')"
      ]
    },
    {
      "cell_type": "markdown",
      "metadata": {
        "id": "7vJTyJfz1ie3"
      },
      "source": [
        "Dari grafik di atas, dapat diamati bahwa cuaca 1 (cerah) paling banyak terjadi dan cuaca 4 (ekstrem: hujan es, badai petir, dll) sangat jarang terjadi, bahkan hanya dimunculkan pada data jam-an."
      ]
    },
    {
      "cell_type": "markdown",
      "metadata": {},
      "source": [
        "### Explore Multivariat"
      ]
    },
    {
      "cell_type": "markdown",
      "metadata": {},
      "source": [
        "#### Korelasi antar variabel"
      ]
    },
    {
      "cell_type": "code",
      "execution_count": 168,
      "metadata": {},
      "outputs": [
        {
          "name": "stdout",
          "output_type": "stream",
          "text": [
            "<class 'pandas.core.frame.DataFrame'>\n",
            "RangeIndex: 731 entries, 0 to 730\n",
            "Data columns (total 15 columns):\n",
            " #   Column      Non-Null Count  Dtype         \n",
            "---  ------      --------------  -----         \n",
            " 0   dteday      731 non-null    datetime64[ns]\n",
            " 1   season      731 non-null    object        \n",
            " 2   yr          731 non-null    object        \n",
            " 3   mnth        731 non-null    object        \n",
            " 4   holiday     731 non-null    object        \n",
            " 5   weekday     731 non-null    object        \n",
            " 6   workingday  731 non-null    object        \n",
            " 7   weathersit  731 non-null    object        \n",
            " 8   temp        731 non-null    float64       \n",
            " 9   atemp       731 non-null    float64       \n",
            " 10  hum         731 non-null    float64       \n",
            " 11  windspeed   731 non-null    float64       \n",
            " 12  casual      731 non-null    int64         \n",
            " 13  registered  731 non-null    int64         \n",
            " 14  cnt         731 non-null    int64         \n",
            "dtypes: datetime64[ns](1), float64(4), int64(3), object(7)\n",
            "memory usage: 85.8+ KB\n"
          ]
        }
      ],
      "source": [
        "day.info()"
      ]
    },
    {
      "cell_type": "code",
      "execution_count": 169,
      "metadata": {},
      "outputs": [
        {
          "data": {
            "text/html": [
              "<div>\n",
              "<style scoped>\n",
              "    .dataframe tbody tr th:only-of-type {\n",
              "        vertical-align: middle;\n",
              "    }\n",
              "\n",
              "    .dataframe tbody tr th {\n",
              "        vertical-align: top;\n",
              "    }\n",
              "\n",
              "    .dataframe thead th {\n",
              "        text-align: right;\n",
              "    }\n",
              "</style>\n",
              "<table border=\"1\" class=\"dataframe\">\n",
              "  <thead>\n",
              "    <tr style=\"text-align: right;\">\n",
              "      <th></th>\n",
              "      <th>temp</th>\n",
              "      <th>atemp</th>\n",
              "      <th>hum</th>\n",
              "      <th>windspeed</th>\n",
              "      <th>casual</th>\n",
              "      <th>registered</th>\n",
              "      <th>cnt</th>\n",
              "    </tr>\n",
              "  </thead>\n",
              "  <tbody>\n",
              "    <tr>\n",
              "      <th>temp</th>\n",
              "      <td>1.000000</td>\n",
              "      <td>0.991702</td>\n",
              "      <td>0.126963</td>\n",
              "      <td>-0.157944</td>\n",
              "      <td>0.543285</td>\n",
              "      <td>0.540012</td>\n",
              "      <td>0.627494</td>\n",
              "    </tr>\n",
              "    <tr>\n",
              "      <th>atemp</th>\n",
              "      <td>0.991702</td>\n",
              "      <td>1.000000</td>\n",
              "      <td>0.139988</td>\n",
              "      <td>-0.183643</td>\n",
              "      <td>0.543864</td>\n",
              "      <td>0.544192</td>\n",
              "      <td>0.631066</td>\n",
              "    </tr>\n",
              "    <tr>\n",
              "      <th>hum</th>\n",
              "      <td>0.126963</td>\n",
              "      <td>0.139988</td>\n",
              "      <td>1.000000</td>\n",
              "      <td>-0.248489</td>\n",
              "      <td>-0.077008</td>\n",
              "      <td>-0.091089</td>\n",
              "      <td>-0.100659</td>\n",
              "    </tr>\n",
              "    <tr>\n",
              "      <th>windspeed</th>\n",
              "      <td>-0.157944</td>\n",
              "      <td>-0.183643</td>\n",
              "      <td>-0.248489</td>\n",
              "      <td>1.000000</td>\n",
              "      <td>-0.167613</td>\n",
              "      <td>-0.217449</td>\n",
              "      <td>-0.234545</td>\n",
              "    </tr>\n",
              "    <tr>\n",
              "      <th>casual</th>\n",
              "      <td>0.543285</td>\n",
              "      <td>0.543864</td>\n",
              "      <td>-0.077008</td>\n",
              "      <td>-0.167613</td>\n",
              "      <td>1.000000</td>\n",
              "      <td>0.395282</td>\n",
              "      <td>0.672804</td>\n",
              "    </tr>\n",
              "    <tr>\n",
              "      <th>registered</th>\n",
              "      <td>0.540012</td>\n",
              "      <td>0.544192</td>\n",
              "      <td>-0.091089</td>\n",
              "      <td>-0.217449</td>\n",
              "      <td>0.395282</td>\n",
              "      <td>1.000000</td>\n",
              "      <td>0.945517</td>\n",
              "    </tr>\n",
              "    <tr>\n",
              "      <th>cnt</th>\n",
              "      <td>0.627494</td>\n",
              "      <td>0.631066</td>\n",
              "      <td>-0.100659</td>\n",
              "      <td>-0.234545</td>\n",
              "      <td>0.672804</td>\n",
              "      <td>0.945517</td>\n",
              "      <td>1.000000</td>\n",
              "    </tr>\n",
              "  </tbody>\n",
              "</table>\n",
              "</div>"
            ],
            "text/plain": [
              "                temp     atemp       hum  windspeed    casual  registered  \\\n",
              "temp        1.000000  0.991702  0.126963  -0.157944  0.543285    0.540012   \n",
              "atemp       0.991702  1.000000  0.139988  -0.183643  0.543864    0.544192   \n",
              "hum         0.126963  0.139988  1.000000  -0.248489 -0.077008   -0.091089   \n",
              "windspeed  -0.157944 -0.183643 -0.248489   1.000000 -0.167613   -0.217449   \n",
              "casual      0.543285  0.543864 -0.077008  -0.167613  1.000000    0.395282   \n",
              "registered  0.540012  0.544192 -0.091089  -0.217449  0.395282    1.000000   \n",
              "cnt         0.627494  0.631066 -0.100659  -0.234545  0.672804    0.945517   \n",
              "\n",
              "                 cnt  \n",
              "temp        0.627494  \n",
              "atemp       0.631066  \n",
              "hum        -0.100659  \n",
              "windspeed  -0.234545  \n",
              "casual      0.672804  \n",
              "registered  0.945517  \n",
              "cnt         1.000000  "
            ]
          },
          "execution_count": 169,
          "metadata": {},
          "output_type": "execute_result"
        }
      ],
      "source": [
        "korelasi = day.select_dtypes(include = 'number').corr()\n",
        "korelasi"
      ]
    },
    {
      "cell_type": "code",
      "execution_count": 170,
      "metadata": {},
      "outputs": [
        {
          "data": {
            "text/plain": [
              "<Axes: >"
            ]
          },
          "execution_count": 170,
          "metadata": {},
          "output_type": "execute_result"
        },
        {
          "data": {
            "image/png": "[encoded data removed]",
            "text/plain": [
              "<Figure size 640x480 with 2 Axes>"
            ]
          },
          "metadata": {},
          "output_type": "display_data"
        }
      ],
      "source": [
        "sns.heatmap(korelasi)"
      ]
    },
    {
      "cell_type": "markdown",
      "metadata": {},
      "source": [
        "Korelasi dari *feature* atau kolom-kolom data yang ada cukup bervariasi. Pada kolom 'cnt' yang mewakili jumlah penyewaan sepeda, korelasi terbesar adalah dengan kolom 'registered'. Hal ini sangat masuk akal karena kolom 'cnt' merupakan hasil jumlahan kolom 'registered' dengan 'casual'. Selanjutnya, kolom yang memiliki korelasi tinggi adalah suhu lingkungan ('temp') dan suhu yang dirasakan ('atemp'). Kedua *feature* ini memiliki hubungan linearitas yang kuat dengan 'cnt'."
      ]
    },
    {
      "cell_type": "markdown",
      "metadata": {
        "id": "DrZEZw7r26Ln"
      },
      "source": [
        "### Menjawab Pertanyaan"
      ]
    },
    {
      "cell_type": "markdown",
      "metadata": {
        "id": "AFqtO4L6284A"
      },
      "source": [
        "##### Pertanyaan 1: Pada bulan apakah terjadi penyewaan sepeda terbanyak?"
      ]
    },
    {
      "cell_type": "code",
      "execution_count": 171,
      "metadata": {
        "colab": {
          "base_uri": "https://localhost:8080/",
          "height": 457
        },
        "id": "6Aw_d7Hs53y6",
        "outputId": "dd0255ef-0a42-4836-b09c-c73bd496dbc9"
      },
      "outputs": [
        {
          "data": {
            "text/html": [
              "<div>\n",
              "<style scoped>\n",
              "    .dataframe tbody tr th:only-of-type {\n",
              "        vertical-align: middle;\n",
              "    }\n",
              "\n",
              "    .dataframe tbody tr th {\n",
              "        vertical-align: top;\n",
              "    }\n",
              "\n",
              "    .dataframe thead th {\n",
              "        text-align: right;\n",
              "    }\n",
              "</style>\n",
              "<table border=\"1\" class=\"dataframe\">\n",
              "  <thead>\n",
              "    <tr style=\"text-align: right;\">\n",
              "      <th></th>\n",
              "      <th>cnt</th>\n",
              "    </tr>\n",
              "    <tr>\n",
              "      <th>mnth</th>\n",
              "      <th></th>\n",
              "    </tr>\n",
              "  </thead>\n",
              "  <tbody>\n",
              "    <tr>\n",
              "      <th>Agustus</th>\n",
              "      <td>351194</td>\n",
              "    </tr>\n",
              "    <tr>\n",
              "      <th>Juni</th>\n",
              "      <td>346342</td>\n",
              "    </tr>\n",
              "    <tr>\n",
              "      <th>September</th>\n",
              "      <td>345991</td>\n",
              "    </tr>\n",
              "    <tr>\n",
              "      <th>Juli</th>\n",
              "      <td>344948</td>\n",
              "    </tr>\n",
              "    <tr>\n",
              "      <th>Mei</th>\n",
              "      <td>331686</td>\n",
              "    </tr>\n",
              "    <tr>\n",
              "      <th>Oktober</th>\n",
              "      <td>322352</td>\n",
              "    </tr>\n",
              "    <tr>\n",
              "      <th>April</th>\n",
              "      <td>269094</td>\n",
              "    </tr>\n",
              "    <tr>\n",
              "      <th>November</th>\n",
              "      <td>254831</td>\n",
              "    </tr>\n",
              "    <tr>\n",
              "      <th>Maret</th>\n",
              "      <td>228920</td>\n",
              "    </tr>\n",
              "    <tr>\n",
              "      <th>Desember</th>\n",
              "      <td>211036</td>\n",
              "    </tr>\n",
              "    <tr>\n",
              "      <th>Februari</th>\n",
              "      <td>151352</td>\n",
              "    </tr>\n",
              "    <tr>\n",
              "      <th>Januari</th>\n",
              "      <td>134933</td>\n",
              "    </tr>\n",
              "  </tbody>\n",
              "</table>\n",
              "</div>"
            ],
            "text/plain": [
              "              cnt\n",
              "mnth             \n",
              "Agustus    351194\n",
              "Juni       346342\n",
              "September  345991\n",
              "Juli       344948\n",
              "Mei        331686\n",
              "Oktober    322352\n",
              "April      269094\n",
              "November   254831\n",
              "Maret      228920\n",
              "Desember   211036\n",
              "Februari   151352\n",
              "Januari    134933"
            ]
          },
          "execution_count": 171,
          "metadata": {},
          "output_type": "execute_result"
        }
      ],
      "source": [
        "bulan_terbanyak = day[['mnth', 'cnt']].groupby('mnth').sum().sort_values('cnt', ascending = False)\n",
        "bulan_terbanyak"
      ]
    },
    {
      "cell_type": "code",
      "execution_count": 172,
      "metadata": {
        "colab": {
          "base_uri": "https://localhost:8080/",
          "height": 467
        },
        "id": "AHT5UBalAEXD",
        "outputId": "d89299e5-f5e0-467e-8e1a-6cb02fd116f3"
      },
      "outputs": [
        {
          "data": {
            "text/plain": [
              "<Axes: xlabel='mnth', ylabel='cnt'>"
            ]
          },
          "execution_count": 172,
          "metadata": {},
          "output_type": "execute_result"
        },
        {
          "data": {
            "image/png": "[encoded data removed]",
            "text/plain": [
              "<Figure size 640x480 with 1 Axes>"
            ]
          },
          "metadata": {},
          "output_type": "display_data"
        }
      ],
      "source": [
        "sns.barplot(data = bulan_terbanyak, x = bulan_terbanyak.index, y = bulan_terbanyak['cnt'], order = bulan_terbanyak.index)"
      ]
    },
    {
      "cell_type": "markdown",
      "metadata": {
        "id": "VafLMcpBoTXI"
      },
      "source": [
        "Jawaban: Penyewaan sepeda terbanyak terjadi pada bulan Agustus."
      ]
    },
    {
      "cell_type": "markdown",
      "metadata": {
        "id": "u65TxDkk4kog"
      },
      "source": [
        "##### Pertanyaan 2: Secara deskriptif, manakah jumlah penyewa sepeda yang lebih banyak, hari masuk atau hari libur?"
      ]
    },
    {
      "cell_type": "code",
      "execution_count": 173,
      "metadata": {
        "colab": {
          "base_uri": "https://localhost:8080/"
        },
        "id": "3Kqrc7rAoR2O",
        "outputId": "a38cbfe6-60b2-4997-80e7-f015f086cd21"
      },
      "outputs": [
        {
          "name": "stdout",
          "output_type": "stream",
          "text": [
            "Rata-rata penyewa sepeda pada hari libur adalah 4584.82 dan rata-rata penyewa sepeda hari masuk adalah 4330.168831168831.\n"
          ]
        },
        {
          "name": "stderr",
          "output_type": "stream",
          "text": [
            "C:\\Users\\Papa\\AppData\\Local\\Temp\\ipykernel_6836\\2147985844.py:3: FutureWarning: Series.__getitem__ treating keys as positions is deprecated. In a future version, integer keys will always be treated as labels (consistent with DataFrame behavior). To access a value by position, use `ser.iloc[pos]`\n",
            "  print(\"Rata-rata penyewa sepeda pada hari libur adalah {} dan rata-rata penyewa sepeda hari masuk adalah {}.\".format(cnt_workingday['cnt'][0], cnt_workingday['cnt'][1]))\n"
          ]
        }
      ],
      "source": [
        "cnt_workingday = day[['workingday', 'cnt']].groupby('workingday').mean().sort_values('cnt', ascending = False)\n",
        "\n",
        "print(\"Rata-rata penyewa sepeda pada hari libur adalah {} dan rata-rata penyewa sepeda hari masuk adalah {}.\".format(cnt_workingday['cnt'][0], cnt_workingday['cnt'][1]))"
      ]
    },
    {
      "cell_type": "code",
      "execution_count": 174,
      "metadata": {
        "colab": {
          "base_uri": "https://localhost:8080/",
          "height": 467
        },
        "id": "ej3p6mZsqg_x",
        "outputId": "a89b9938-31a8-4668-9b52-c6471b026744"
      },
      "outputs": [
        {
          "data": {
            "text/plain": [
              "<Axes: xlabel='workingday', ylabel='cnt'>"
            ]
          },
          "execution_count": 174,
          "metadata": {},
          "output_type": "execute_result"
        },
        {
          "data": {
            "image/png": "[encoded data removed]",
            "text/plain": [
              "<Figure size 640x480 with 1 Axes>"
            ]
          },
          "metadata": {},
          "output_type": "display_data"
        }
      ],
      "source": [
        "sns.barplot(data = cnt_workingday, x = cnt_workingday.index, y = 'cnt')"
      ]
    },
    {
      "cell_type": "markdown",
      "metadata": {
        "id": "nLa7MNuCqLvo"
      },
      "source": [
        "Jawaban: Berdasarkan hasil rata-rata di atas, didapatkan bahwa penyewa sepeda di hari masuk (hari kerja) lebih banyak daripada di hari libur (bukan hari kerja) dengan perbedaan sebesar kurang lebih 200 penyewa."
      ]
    },
    {
      "cell_type": "markdown",
      "metadata": {
        "id": "vjfJbQfU4vfr"
      },
      "source": [
        "##### Pertanyaan 3: Secara deskriptif, pada musim manakah jumlah penyewaan sepeda tertinggi?"
      ]
    },
    {
      "cell_type": "code",
      "execution_count": 175,
      "metadata": {
        "colab": {
          "base_uri": "https://localhost:8080/",
          "height": 206
        },
        "id": "5DzyVqZFuG7-",
        "outputId": "e05f0eab-7134-426a-dab0-16f84e06685d"
      },
      "outputs": [
        {
          "data": {
            "text/html": [
              "<div>\n",
              "<style scoped>\n",
              "    .dataframe tbody tr th:only-of-type {\n",
              "        vertical-align: middle;\n",
              "    }\n",
              "\n",
              "    .dataframe tbody tr th {\n",
              "        vertical-align: top;\n",
              "    }\n",
              "\n",
              "    .dataframe thead th {\n",
              "        text-align: right;\n",
              "    }\n",
              "</style>\n",
              "<table border=\"1\" class=\"dataframe\">\n",
              "  <thead>\n",
              "    <tr style=\"text-align: right;\">\n",
              "      <th></th>\n",
              "      <th>cnt</th>\n",
              "    </tr>\n",
              "    <tr>\n",
              "      <th>season</th>\n",
              "      <th></th>\n",
              "    </tr>\n",
              "  </thead>\n",
              "  <tbody>\n",
              "    <tr>\n",
              "      <th>Musim panas</th>\n",
              "      <td>5644.303191</td>\n",
              "    </tr>\n",
              "    <tr>\n",
              "      <th>Musim semi</th>\n",
              "      <td>4992.331522</td>\n",
              "    </tr>\n",
              "    <tr>\n",
              "      <th>Musim gugur</th>\n",
              "      <td>4728.162921</td>\n",
              "    </tr>\n",
              "    <tr>\n",
              "      <th>Musim dingin</th>\n",
              "      <td>2604.132597</td>\n",
              "    </tr>\n",
              "  </tbody>\n",
              "</table>\n",
              "</div>"
            ],
            "text/plain": [
              "                      cnt\n",
              "season                   \n",
              "Musim panas   5644.303191\n",
              "Musim semi    4992.331522\n",
              "Musim gugur   4728.162921\n",
              "Musim dingin  2604.132597"
            ]
          },
          "execution_count": 175,
          "metadata": {},
          "output_type": "execute_result"
        }
      ],
      "source": [
        "cnt_season = day[['season', 'cnt']].groupby('season').mean().sort_values('cnt', ascending = False)\n",
        "cnt_season"
      ]
    },
    {
      "cell_type": "code",
      "execution_count": 176,
      "metadata": {
        "colab": {
          "base_uri": "https://localhost:8080/",
          "height": 467
        },
        "id": "-mrgekvfvoDO",
        "outputId": "10ac0444-38b3-40cc-ab91-8fb0b44f24c7"
      },
      "outputs": [
        {
          "data": {
            "text/plain": [
              "<Axes: xlabel='season', ylabel='cnt'>"
            ]
          },
          "execution_count": 176,
          "metadata": {},
          "output_type": "execute_result"
        },
        {
          "data": {
            "image/png": "[encoded data removed]",
            "text/plain": [
              "<Figure size 640x480 with 1 Axes>"
            ]
          },
          "metadata": {},
          "output_type": "display_data"
        }
      ],
      "source": [
        "sns.barplot(data = cnt_season, x = cnt_season.index, y = 'cnt', order = cnt_season.index)"
      ]
    },
    {
      "cell_type": "markdown",
      "metadata": {
        "id": "LE_4cKDwwKHI"
      },
      "source": [
        "Jawaban: Penyewaan sepeda terbanyak terjadi pada musim panas (3: *summer*)."
      ]
    },
    {
      "cell_type": "markdown",
      "metadata": {
        "id": "dD1gdpY940B0"
      },
      "source": [
        "##### Pertanyaan 4: Apakah terdapat peningkatan jumlah penyewaan sepeda dari tahun 2011 ke 2012?"
      ]
    },
    {
      "cell_type": "markdown",
      "metadata": {
        "id": "Y35XI4aMwaYQ"
      },
      "source": [
        "Menggunakan perhitungan rata-rata:"
      ]
    },
    {
      "cell_type": "code",
      "execution_count": 177,
      "metadata": {
        "colab": {
          "base_uri": "https://localhost:8080/",
          "height": 143
        },
        "id": "IhvN8h_axCRX",
        "outputId": "5ba037e5-a366-41e7-b7ea-0f56fa1dfaf9"
      },
      "outputs": [
        {
          "data": {
            "text/html": [
              "<div>\n",
              "<style scoped>\n",
              "    .dataframe tbody tr th:only-of-type {\n",
              "        vertical-align: middle;\n",
              "    }\n",
              "\n",
              "    .dataframe tbody tr th {\n",
              "        vertical-align: top;\n",
              "    }\n",
              "\n",
              "    .dataframe thead th {\n",
              "        text-align: right;\n",
              "    }\n",
              "</style>\n",
              "<table border=\"1\" class=\"dataframe\">\n",
              "  <thead>\n",
              "    <tr style=\"text-align: right;\">\n",
              "      <th></th>\n",
              "      <th>cnt</th>\n",
              "    </tr>\n",
              "    <tr>\n",
              "      <th>yr</th>\n",
              "      <th></th>\n",
              "    </tr>\n",
              "  </thead>\n",
              "  <tbody>\n",
              "    <tr>\n",
              "      <th>2011</th>\n",
              "      <td>3405.761644</td>\n",
              "    </tr>\n",
              "    <tr>\n",
              "      <th>2012</th>\n",
              "      <td>5599.934426</td>\n",
              "    </tr>\n",
              "  </tbody>\n",
              "</table>\n",
              "</div>"
            ],
            "text/plain": [
              "              cnt\n",
              "yr               \n",
              "2011  3405.761644\n",
              "2012  5599.934426"
            ]
          },
          "execution_count": 177,
          "metadata": {},
          "output_type": "execute_result"
        }
      ],
      "source": [
        "cnt_yr = day[['yr', 'cnt']].groupby('yr').mean()\n",
        "cnt_yr"
      ]
    },
    {
      "cell_type": "code",
      "execution_count": 178,
      "metadata": {
        "colab": {
          "base_uri": "https://localhost:8080/",
          "height": 467
        },
        "id": "KrkSfkkpxpnM",
        "outputId": "9e73c75d-693b-4649-a82a-ea40d6963ba5"
      },
      "outputs": [
        {
          "data": {
            "text/plain": [
              "<Axes: xlabel='yr', ylabel='cnt'>"
            ]
          },
          "execution_count": 178,
          "metadata": {},
          "output_type": "execute_result"
        },
        {
          "data": {
            "image/png": "[encoded data removed]",
            "text/plain": [
              "<Figure size 640x480 with 1 Axes>"
            ]
          },
          "metadata": {},
          "output_type": "display_data"
        }
      ],
      "source": [
        "sns.barplot(data = cnt_yr, x = cnt_yr.index, y = 'cnt')"
      ]
    },
    {
      "cell_type": "markdown",
      "metadata": {
        "id": "rs7fD94Txy_A"
      },
      "source": [
        "Menggunakan grafik garis:"
      ]
    },
    {
      "cell_type": "code",
      "execution_count": 179,
      "metadata": {
        "colab": {
          "base_uri": "https://localhost:8080/",
          "height": 673
        },
        "id": "B8NtY3jVyq9o",
        "outputId": "5defe760-1b3f-42c4-aa25-266bdd9872ad"
      },
      "outputs": [
        {
          "data": {
            "text/plain": [
              "(array([14975., 15065., 15156., 15248., 15340., 15431., 15522., 15614.,\n",
              "        15706.]),\n",
              " [Text(14975.0, 0, '2011-01'),\n",
              "  Text(15065.0, 0, '2011-04'),\n",
              "  Text(15156.0, 0, '2011-07'),\n",
              "  Text(15248.0, 0, '2011-10'),\n",
              "  Text(15340.0, 0, '2012-01'),\n",
              "  Text(15431.0, 0, '2012-04'),\n",
              "  Text(15522.0, 0, '2012-07'),\n",
              "  Text(15614.0, 0, '2012-10'),\n",
              "  Text(15706.0, 0, '2013-01')])"
            ]
          },
          "execution_count": 179,
          "metadata": {},
          "output_type": "execute_result"
        },
        {
          "data": {
            "image/png": "[encoded data removed]",
            "text/plain": [
              "<Figure size 640x480 with 1 Axes>"
            ]
          },
          "metadata": {},
          "output_type": "display_data"
        }
      ],
      "source": [
        "sns.lineplot(data = day, x = \"dteday\", y = \"cnt\")\n",
        "plt.xticks(rotation = 25)"
      ]
    },
    {
      "cell_type": "markdown",
      "metadata": {
        "id": "qvEhJlHjzcyb"
      },
      "source": [
        "Jawaban: Menggunakan perhitungan rata-rata didapatkan bahwa terdapat peningkatan jumlah penyewaan sepeda dari tahun 2011 ke 2012. Selanjutnya, dengan metode grafik terlihat jelas bahwa terdapat peningkatan sehingga dapat disimpulkan bahwa terdapat peningkatan jumlah penyewaan sepeda dari tahun 2011 ke 2012. Diamati pula bahwa terdapat tren naik."
      ]
    },
    {
      "cell_type": "markdown",
      "metadata": {
        "id": "PqiTvsCk5PcH"
      },
      "source": [
        "##### Pertanyaan 5: Pada jam berapakah penyewaan sepeda mencapai puncak?"
      ]
    },
    {
      "cell_type": "code",
      "execution_count": 181,
      "metadata": {
        "colab": {
          "base_uri": "https://localhost:8080/",
          "height": 833
        },
        "id": "yCAPQL6X4NSL",
        "outputId": "1671c631-af8c-4a18-dd53-65d4693fe4bd"
      },
      "outputs": [
        {
          "data": {
            "text/html": [
              "<div>\n",
              "<style scoped>\n",
              "    .dataframe tbody tr th:only-of-type {\n",
              "        vertical-align: middle;\n",
              "    }\n",
              "\n",
              "    .dataframe tbody tr th {\n",
              "        vertical-align: top;\n",
              "    }\n",
              "\n",
              "    .dataframe thead th {\n",
              "        text-align: right;\n",
              "    }\n",
              "</style>\n",
              "<table border=\"1\" class=\"dataframe\">\n",
              "  <thead>\n",
              "    <tr style=\"text-align: right;\">\n",
              "      <th></th>\n",
              "      <th>cnt</th>\n",
              "    </tr>\n",
              "    <tr>\n",
              "      <th>hr</th>\n",
              "      <th></th>\n",
              "    </tr>\n",
              "  </thead>\n",
              "  <tbody>\n",
              "    <tr>\n",
              "      <th>17</th>\n",
              "      <td>461.452055</td>\n",
              "    </tr>\n",
              "    <tr>\n",
              "      <th>18</th>\n",
              "      <td>425.510989</td>\n",
              "    </tr>\n",
              "    <tr>\n",
              "      <th>8</th>\n",
              "      <td>359.011004</td>\n",
              "    </tr>\n",
              "    <tr>\n",
              "      <th>16</th>\n",
              "      <td>311.983562</td>\n",
              "    </tr>\n",
              "    <tr>\n",
              "      <th>19</th>\n",
              "      <td>311.523352</td>\n",
              "    </tr>\n",
              "    <tr>\n",
              "      <th>13</th>\n",
              "      <td>253.661180</td>\n",
              "    </tr>\n",
              "    <tr>\n",
              "      <th>12</th>\n",
              "      <td>253.315934</td>\n",
              "    </tr>\n",
              "    <tr>\n",
              "      <th>15</th>\n",
              "      <td>251.233196</td>\n",
              "    </tr>\n",
              "    <tr>\n",
              "      <th>14</th>\n",
              "      <td>240.949246</td>\n",
              "    </tr>\n",
              "    <tr>\n",
              "      <th>20</th>\n",
              "      <td>226.030220</td>\n",
              "    </tr>\n",
              "    <tr>\n",
              "      <th>9</th>\n",
              "      <td>219.309491</td>\n",
              "    </tr>\n",
              "    <tr>\n",
              "      <th>7</th>\n",
              "      <td>212.064649</td>\n",
              "    </tr>\n",
              "    <tr>\n",
              "      <th>11</th>\n",
              "      <td>208.143054</td>\n",
              "    </tr>\n",
              "    <tr>\n",
              "      <th>10</th>\n",
              "      <td>173.668501</td>\n",
              "    </tr>\n",
              "    <tr>\n",
              "      <th>21</th>\n",
              "      <td>172.314560</td>\n",
              "    </tr>\n",
              "    <tr>\n",
              "      <th>22</th>\n",
              "      <td>131.335165</td>\n",
              "    </tr>\n",
              "    <tr>\n",
              "      <th>23</th>\n",
              "      <td>87.831044</td>\n",
              "    </tr>\n",
              "    <tr>\n",
              "      <th>6</th>\n",
              "      <td>76.044138</td>\n",
              "    </tr>\n",
              "    <tr>\n",
              "      <th>0</th>\n",
              "      <td>53.898072</td>\n",
              "    </tr>\n",
              "    <tr>\n",
              "      <th>1</th>\n",
              "      <td>33.375691</td>\n",
              "    </tr>\n",
              "    <tr>\n",
              "      <th>2</th>\n",
              "      <td>22.869930</td>\n",
              "    </tr>\n",
              "    <tr>\n",
              "      <th>5</th>\n",
              "      <td>19.889819</td>\n",
              "    </tr>\n",
              "    <tr>\n",
              "      <th>3</th>\n",
              "      <td>11.727403</td>\n",
              "    </tr>\n",
              "    <tr>\n",
              "      <th>4</th>\n",
              "      <td>6.352941</td>\n",
              "    </tr>\n",
              "  </tbody>\n",
              "</table>\n",
              "</div>"
            ],
            "text/plain": [
              "           cnt\n",
              "hr            \n",
              "17  461.452055\n",
              "18  425.510989\n",
              "8   359.011004\n",
              "16  311.983562\n",
              "19  311.523352\n",
              "13  253.661180\n",
              "12  253.315934\n",
              "15  251.233196\n",
              "14  240.949246\n",
              "20  226.030220\n",
              "9   219.309491\n",
              "7   212.064649\n",
              "11  208.143054\n",
              "10  173.668501\n",
              "21  172.314560\n",
              "22  131.335165\n",
              "23   87.831044\n",
              "6    76.044138\n",
              "0    53.898072\n",
              "1    33.375691\n",
              "2    22.869930\n",
              "5    19.889819\n",
              "3    11.727403\n",
              "4     6.352941"
            ]
          },
          "execution_count": 181,
          "metadata": {},
          "output_type": "execute_result"
        }
      ],
      "source": [
        "cnt_hour = hour[['hr', 'cnt']].groupby('hr').mean().sort_values('cnt', ascending = False)\n",
        "cnt_hour"
      ]
    },
    {
      "cell_type": "code",
      "execution_count": 182,
      "metadata": {
        "colab": {
          "base_uri": "https://localhost:8080/",
          "height": 467
        },
        "id": "ZZ2RCbgz_Qtn",
        "outputId": "71cc8f7a-f891-46f0-a2ac-0374231346d1"
      },
      "outputs": [
        {
          "data": {
            "text/plain": [
              "<Axes: xlabel='hr', ylabel='cnt'>"
            ]
          },
          "execution_count": 182,
          "metadata": {},
          "output_type": "execute_result"
        },
        {
          "data": {
            "image/png": "[encoded data removed]",
            "text/plain": [
              "<Figure size 640x480 with 1 Axes>"
            ]
          },
          "metadata": {},
          "output_type": "display_data"
        }
      ],
      "source": [
        "sns.barplot(data = cnt_hour, x = cnt_hour.index, y = cnt_hour['cnt'], order = cnt_hour.index)"
      ]
    },
    {
      "cell_type": "markdown",
      "metadata": {
        "id": "VRRXK00Y_tgP"
      },
      "source": [
        "Jawaban: Penyewaan sepeda mencapai puncak pada jam 17."
      ]
    },
    {
      "cell_type": "markdown",
      "metadata": {},
      "source": [
        "#### Analisis Lanjutan"
      ]
    },
    {
      "cell_type": "markdown",
      "metadata": {},
      "source": [
        "Selanjutnya, akan diproyeksikan tren untuk tahun berikutnya. Metode yang akan digunakan adalah metode statistik regresi linear sederhana dengan variabel prediktor adalah hari dalam tahun dan variabel respon adalah jumlah penyewaan sepeda."
      ]
    },
    {
      "cell_type": "code",
      "execution_count": 183,
      "metadata": {},
      "outputs": [
        {
          "name": "stdout",
          "output_type": "stream",
          "text": [
            "LinregressResult(slope=5.0902555865808425, intercept=3571.5577601148793, rvalue=0.2774325354968584, pvalue=2.1967688192391383e-14, stderr=0.6528698633259922, intercept_stderr=138.05264838290358)\n"
          ]
        }
      ],
      "source": [
        "from scipy.stats import linregress\n",
        "\n",
        "x = day['dteday'].dt.dayofyear\n",
        "y = day['cnt']\n",
        "\n",
        "res = linregress(x, y)\n",
        "print(res)"
      ]
    },
    {
      "cell_type": "markdown",
      "metadata": {},
      "source": [
        "Didapatkan hasil seperti di atas, dengan konstanta sebesar 3571.5577601148793 dan koefisien untuk 'x' sebesar 5.0902555865808425. Selanjutnya akan diproyeksikan jumlah penyewaan untuk tahun 2013. Tahun 2013 bukan merupakan tahun kabisat sehingga memiliki hari sebanyak 365."
      ]
    },
    {
      "cell_type": "code",
      "execution_count": 184,
      "metadata": {},
      "outputs": [
        {
          "data": {
            "text/plain": [
              "<Axes: xlabel='dteday', ylabel='dteday'>"
            ]
          },
          "execution_count": 184,
          "metadata": {},
          "output_type": "execute_result"
        },
        {
          "data": {
            "image/png": "[encoded data removed]",
            "text/plain": [
              "<Figure size 640x480 with 1 Axes>"
            ]
          },
          "metadata": {},
          "output_type": "display_data"
        }
      ],
      "source": [
        "hari_2013 = x[0:365]\n",
        "jumlah_penyewa_2013 = res.intercept + (hari_2013 * res.slope)\n",
        "\n",
        "sns.lineplot(x = hari_2013, y = jumlah_penyewa_2013)"
      ]
    },
    {
      "cell_type": "markdown",
      "metadata": {},
      "source": [
        "Didapatkan hasil proyeksi bahwa pada tahun 2013 jumlah penyewaan sepeda akan terus bertambah, sehingga bisa dilakukan peningkatan pada jumlah sepeda yang dapat disewa maupun *service* yang diberikan."
      ]
    },
    {
      "cell_type": "markdown",
      "metadata": {
        "id": "zsyZjqak8DC2"
      },
      "source": [
        "## Visualization & Explanatory Analysis"
      ]
    },
    {
      "cell_type": "markdown",
      "metadata": {
        "id": "sojxvY2mAWX4"
      },
      "source": [
        "### Pertanyaan 1: Pada bulan apakah terjadi penyewaan sepeda terbanyak?"
      ]
    },
    {
      "cell_type": "code",
      "execution_count": 186,
      "metadata": {
        "colab": {
          "base_uri": "https://localhost:8080/",
          "height": 527
        },
        "id": "DnT21VB2AWYL",
        "outputId": "fd56e27a-bf93-4de6-c4bf-e5dd20fbddfe"
      },
      "outputs": [
        {
          "data": {
            "text/plain": [
              "([0, 1, 2, 3, 4, 5, 6, 7, 8, 9, 10, 11],\n",
              " [Text(0, 0, 'Agustus'),\n",
              "  Text(1, 0, 'Juni'),\n",
              "  Text(2, 0, 'September'),\n",
              "  Text(3, 0, 'Juli'),\n",
              "  Text(4, 0, 'Mei'),\n",
              "  Text(5, 0, 'Oktober'),\n",
              "  Text(6, 0, 'April'),\n",
              "  Text(7, 0, 'November'),\n",
              "  Text(8, 0, 'Maret'),\n",
              "  Text(9, 0, 'Desember'),\n",
              "  Text(10, 0, 'Februari'),\n",
              "  Text(11, 0, 'Januari')])"
            ]
          },
          "execution_count": 186,
          "metadata": {},
          "output_type": "execute_result"
        },
        {
          "data": {
            "image/png": "[encoded data removed]",
            "text/plain": [
              "<Figure size 640x480 with 1 Axes>"
            ]
          },
          "metadata": {},
          "output_type": "display_data"
        }
      ],
      "source": [
        "# Grafik perbandingan antar bulan\n",
        "ax = sns.barplot(data = bulan_terbanyak, x = bulan_terbanyak.index, y = bulan_terbanyak['cnt'], order = bulan_terbanyak.index)\n",
        "ax.set(xlabel='Bulan',\n",
        "       ylabel='Rata-Rata Jumlah Penyewaan Sepeda',\n",
        "       title='Grafik Rata-Rata Jumlah Penyewaan Sepeda Berdasarkan Bulan')\n",
        "plt.xticks(rotation=45)"
      ]
    },
    {
      "cell_type": "markdown",
      "metadata": {
        "id": "vvtA4nmGAWYM"
      },
      "source": [
        "Jawaban: Penyewaan sepeda terbanyak terjadi pada bulan Agustus."
      ]
    },
    {
      "cell_type": "markdown",
      "metadata": {
        "id": "MmhuwmTsAWYM"
      },
      "source": [
        "### Pertanyaan 2: Secara deskriptif, manakah jumlah penyewa sepeda yang lebih banyak, hari masuk atau hari libur?"
      ]
    },
    {
      "cell_type": "code",
      "execution_count": 194,
      "metadata": {
        "colab": {
          "base_uri": "https://localhost:8080/",
          "height": 527
        },
        "id": "BQeUSaktAWYM",
        "outputId": "1cc180e9-0444-42e4-c99c-f22b89680a65"
      },
      "outputs": [
        {
          "data": {
            "text/plain": [
              "[Text(0.5, 0, 'Hari'),\n",
              " Text(0, 0.5, 'Rata-Rata Jumlah Penyewaan Sepeda'),\n",
              " Text(0.5, 1.0, 'Grafik Rata-Rata Jumlah Penyewaan Sepeda Berdasarkan Hari Libur')]"
            ]
          },
          "execution_count": 194,
          "metadata": {},
          "output_type": "execute_result"
        },
        {
          "data": {
            "image/png": "[encoded data removed]",
            "text/plain": [
              "<Figure size 640x480 with 1 Axes>"
            ]
          },
          "metadata": {},
          "output_type": "display_data"
        }
      ],
      "source": [
        "ax = sns.barplot(data = cnt_workingday, x = cnt_workingday.index, y = 'cnt')\n",
        "ax.set(xlabel='Hari',\n",
        "       ylabel='Rata-Rata Jumlah Penyewaan Sepeda',\n",
        "       title='Grafik Rata-Rata Jumlah Penyewaan Sepeda Berdasarkan Hari Libur')"
      ]
    },
    {
      "cell_type": "markdown",
      "metadata": {
        "id": "l4KB9HRVAWYM"
      },
      "source": [
        "Jawaban: Berdasarkan hasil rata-rata di atas, didapatkan bahwa penyewa sepeda di hari masuk (hari kerja) lebih banyak daripada di hari libur (bukan hari kerja) dengan perbedaan sebesar kurang lebih 200 penyewa."
      ]
    },
    {
      "cell_type": "markdown",
      "metadata": {
        "id": "0jvJbLRfAWYN"
      },
      "source": [
        "### Pertanyaan 3: Secara deskriptif, pada musim manakah jumlah penyewaan sepeda tertinggi?"
      ]
    },
    {
      "cell_type": "code",
      "execution_count": 191,
      "metadata": {
        "colab": {
          "base_uri": "https://localhost:8080/",
          "height": 527
        },
        "id": "TJEfZmgCAWYN",
        "outputId": "5ddfd3e3-753e-4042-93ea-8410d7b7e6cc"
      },
      "outputs": [
        {
          "data": {
            "text/plain": [
              "[Text(0.5, 0, 'Musim'),\n",
              " Text(0, 0.5, 'Rata-Rata Jumlah Penyewaan Sepeda'),\n",
              " Text(0.5, 1.0, 'Grafik Rata-Rata Jumlah Penyewaan Sepeda Berdasarkan Musim')]"
            ]
          },
          "execution_count": 191,
          "metadata": {},
          "output_type": "execute_result"
        },
        {
          "data": {
            "image/png": "[encoded data removed]",
            "text/plain": [
              "<Figure size 640x480 with 1 Axes>"
            ]
          },
          "metadata": {},
          "output_type": "display_data"
        }
      ],
      "source": [
        "ax = sns.barplot(data = cnt_season, x = ['Musim panas', 'Musim semi', 'Musim gugur', 'Musim dingin'], y = 'cnt')\n",
        "ax.set(xlabel='Musim',\n",
        "       ylabel='Rata-Rata Jumlah Penyewaan Sepeda',\n",
        "       title='Grafik Rata-Rata Jumlah Penyewaan Sepeda Berdasarkan Musim')"
      ]
    },
    {
      "cell_type": "markdown",
      "metadata": {
        "id": "lHrAVgsZAWYN"
      },
      "source": [
        "Jawaban: Penyewaan sepeda terbanyak terjadi pada musim panas (3: *summer*)."
      ]
    },
    {
      "cell_type": "markdown",
      "metadata": {
        "id": "rBfBlzEeAWYN"
      },
      "source": [
        "### Pertanyaan 4: Apakah terdapat peningkatan jumlah penyewaan sepeda dari tahun 2011 ke 2012?"
      ]
    },
    {
      "cell_type": "code",
      "execution_count": 192,
      "metadata": {
        "colab": {
          "base_uri": "https://localhost:8080/",
          "height": 527
        },
        "id": "i05SSVBIAWYN",
        "outputId": "7554db48-dd7a-4509-d851-a7b978984055"
      },
      "outputs": [
        {
          "data": {
            "text/plain": [
              "[Text(0.5, 0, 'Tahun'),\n",
              " Text(0, 0.5, 'Rata-Rata Jumlah Penyewaan Sepeda'),\n",
              " Text(0.5, 1.0, 'Grafik Rata-Rata Jumlah Penyewaan Sepeda Berdasarkan Tahun')]"
            ]
          },
          "execution_count": 192,
          "metadata": {},
          "output_type": "execute_result"
        },
        {
          "data": {
            "image/png": "[encoded data removed]",
            "text/plain": [
              "<Figure size 640x480 with 1 Axes>"
            ]
          },
          "metadata": {},
          "output_type": "display_data"
        }
      ],
      "source": [
        "ax = sns.barplot(data = cnt_yr, x = ['2011', '2012'], y = 'cnt')\n",
        "ax.set(xlabel='Tahun',\n",
        "       ylabel='Rata-Rata Jumlah Penyewaan Sepeda',\n",
        "       title='Grafik Rata-Rata Jumlah Penyewaan Sepeda Berdasarkan Tahun')"
      ]
    },
    {
      "cell_type": "code",
      "execution_count": 193,
      "metadata": {
        "colab": {
          "base_uri": "https://localhost:8080/",
          "height": 550
        },
        "id": "uP4IRf2XAWYO",
        "outputId": "19741931-cdab-4e70-9f69-6f7ab032dcb1"
      },
      "outputs": [
        {
          "data": {
            "text/plain": [
              "[Text(0.5, 0, 'Tanggal'),\n",
              " Text(0, 0.5, 'Jumlah Penyewaan Sepeda'),\n",
              " Text(0.5, 1.0, 'Grafik Jumlah Penyewaan Sepeda Berdasarkan Tanggal')]"
            ]
          },
          "execution_count": 193,
          "metadata": {},
          "output_type": "execute_result"
        },
        {
          "data": {
            "image/png": "[encoded data removed]",
            "text/plain": [
              "<Figure size 640x480 with 1 Axes>"
            ]
          },
          "metadata": {},
          "output_type": "display_data"
        }
      ],
      "source": [
        "ax = sns.lineplot(data = day, x = \"dteday\", y = \"cnt\")\n",
        "plt.xticks(rotation = 25)\n",
        "ax.set(xlabel='Tanggal',\n",
        "       ylabel='Jumlah Penyewaan Sepeda',\n",
        "       title='Grafik Jumlah Penyewaan Sepeda Berdasarkan Tanggal')"
      ]
    },
    {
      "cell_type": "markdown",
      "metadata": {
        "id": "y3nOrZOzAWYO"
      },
      "source": [
        "Jawaban: Menggunakan perhitungan rata-rata didapatkan bahwa terdapat peningkatan jumlah penyewaan sepeda dari tahun 2011 ke 2012. Selanjutnya, dengan metode grafik terlihat jelas bahwa terdapat peningkatan sehingga dapat disimpulkan bahwa terdapat peningkatan jumlah penyewaan sepeda dari tahun 2011 ke 2012. Dari grafik juga diamati bahwa terdapat tren naik."
      ]
    },
    {
      "cell_type": "markdown",
      "metadata": {
        "id": "qb8PefQrAWYQ"
      },
      "source": [
        "### Pertanyaan 5: Pada jam berapakah penyewaan sepeda mencapai puncak?"
      ]
    },
    {
      "cell_type": "code",
      "execution_count": 196,
      "metadata": {
        "colab": {
          "base_uri": "https://localhost:8080/",
          "height": 527
        },
        "id": "VVzxbr2LAWYQ",
        "outputId": "aa672085-b28c-435a-a02b-e5172fa238ff"
      },
      "outputs": [
        {
          "data": {
            "text/plain": [
              "[Text(0.5, 0, 'Jam'),\n",
              " Text(0, 0.5, 'Rata-Rata Jumlah Penyewaan Sepeda'),\n",
              " Text(0.5, 1.0, 'Grafik Jumlah Penyewaan Sepeda Berdasarkan Jam')]"
            ]
          },
          "execution_count": 196,
          "metadata": {},
          "output_type": "execute_result"
        },
        {
          "data": {
            "image/png": "[encoded data removed]",
            "text/plain": [
              "<Figure size 640x480 with 1 Axes>"
            ]
          },
          "metadata": {},
          "output_type": "display_data"
        }
      ],
      "source": [
        "ax = sns.barplot(data = cnt_hour, x = cnt_hour.index, y = cnt_hour['cnt'], order = cnt_hour.index)\n",
        "ax.set(xlabel='Jam',\n",
        "       ylabel='Rata-Rata Jumlah Penyewaan Sepeda',\n",
        "       title='Grafik Jumlah Penyewaan Sepeda Berdasarkan Jam')"
      ]
    },
    {
      "cell_type": "markdown",
      "metadata": {
        "id": "MgrDbpGuAWYQ"
      },
      "source": [
        "Jawaban: Penyewaan sepeda mencapai puncak pada jam 17."
      ]
    },
    {
      "cell_type": "markdown",
      "metadata": {},
      "source": [
        "### Hasil Analisis Lanjutan: Proyeksi penyewaan sepeda di tahun 2013"
      ]
    },
    {
      "cell_type": "code",
      "execution_count": 197,
      "metadata": {},
      "outputs": [
        {
          "data": {
            "text/plain": [
              "[Text(0.5, 0, 'Hari'),\n",
              " Text(0, 0.5, 'Proyeksi Jumlah Penyewaan Sepeda'),\n",
              " Text(0.5, 1.0, 'Grafik Proyeksi Jumlah Penyewaan Sepeda Tahun 2013')]"
            ]
          },
          "execution_count": 197,
          "metadata": {},
          "output_type": "execute_result"
        },
        {
          "data": {
            "image/png": "[encoded data removed]",
            "text/plain": [
              "<Figure size 640x480 with 1 Axes>"
            ]
          },
          "metadata": {},
          "output_type": "display_data"
        }
      ],
      "source": [
        "ax = sns.lineplot(x = hari_2013, y = jumlah_penyewa_2013)\n",
        "ax.set(xlabel='Hari',\n",
        "       ylabel='Proyeksi Jumlah Penyewaan Sepeda',\n",
        "       title='Grafik Proyeksi Jumlah Penyewaan Sepeda Tahun 2013')"
      ]
    },
    {
      "cell_type": "markdown",
      "metadata": {},
      "source": [
        "Didapatkan hasil proyeksi bahwa pada tahun 2013 jumlah penyewaan sepeda akan terus bertambah, sehingga bisa dilakukan peningkatan pada jumlah sepeda yang dapat disewa maupun *service* yang diberikan."
      ]
    },
    {
      "cell_type": "markdown",
      "metadata": {
        "id": "_WeHlCeX8DC2"
      },
      "source": [
        "## Conclusion"
      ]
    },
    {
      "cell_type": "markdown",
      "metadata": {
        "id": "ZTcyR48Y8DC2"
      },
      "source": [
        "- Penyewaan sepeda terbanyak terjadi pada bulan Agustus.\n",
        "- Penyewa sepeda di hari masuk lebih banyak daripada di hari libur dengan perbedaan sebesar kurang lebih 200 penyewa.\n",
        "- Penyewaan sepeda terbanyak terjadi pada musim panas.\n",
        "- Terdapat peningkatan sehingga dapat disimpulkan bahwa terdapat peningkatan jumlah penyewaan sepeda dari tahun 2011 ke 2012 dan terdapat tren naik.\n",
        "- Penyewaan sepeda mencapai puncak pada jam 17.\n",
        "- Diproyeksikan bahwa pada tahun 2013 jumlah penyewaan sepeda akan terus bertambah, sehingga bisa dilakukan peningkatan pada jumlah sepeda yang dapat disewa maupun *service* yang diberikan."
      ]
    }
  ],
  "metadata": {
    "colab": {
      "provenance": [],
      "toc_visible": true
    },
    "kernelspec": {
      "display_name": "Python 3",
      "language": "python",
      "name": "python3"
    },
    "language_info": {
      "codemirror_mode": {
        "name": "ipython",
        "version": 3
      },
      "file_extension": ".py",
      "mimetype": "text/x-python",
      "name": "python",
      "nbconvert_exporter": "python",
      "pygments_lexer": "ipython3",
      "version": "3.12.2"
    },
    "orig_nbformat": 4,
    "vscode": {
      "interpreter": {
        "hash": "972b3bf27e332e87b5379f2791f6ef9dfc79c71018c370b0d7423235e20fe4d7"
      }
    }
  },
  "nbformat": 4,
  "nbformat_minor": 0
}
